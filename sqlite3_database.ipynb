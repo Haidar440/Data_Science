{
 "cells": [
  {
   "cell_type": "code",
   "execution_count": null,
   "id": "7c3ad21e",
   "metadata": {},
   "outputs": [],
   "source": [
    "import sqlite3"
   ]
  },
  {
   "cell_type": "code",
   "execution_count": null,
   "id": "86b14157",
   "metadata": {},
   "outputs": [],
   "source": [
    "db =  sqlite3.connect('ineuron.db')"
   ]
  },
  {
   "cell_type": "code",
   "execution_count": null,
   "id": "7e3c1976",
   "metadata": {},
   "outputs": [],
   "source": [
    "c = db.cursor()"
   ]
  },
  {
   "cell_type": "code",
   "execution_count": null,
   "id": "92cefb3f",
   "metadata": {},
   "outputs": [],
   "source": [
    "c.execute('CREATE TABLE IF NOT EXISTS fdsc (name TEXT, batch INTEGER, mark real)')"
   ]
  },
  {
   "cell_type": "code",
   "execution_count": 9,
   "id": "15286ae2",
   "metadata": {},
   "outputs": [
    {
     "data": {
      "text/plain": [
       "<sqlite3.Cursor at 0x216972102c0>"
      ]
     },
     "execution_count": 9,
     "metadata": {},
     "output_type": "execute_result"
    }
   ],
   "source": [
    "c.execute(\"INSERT INTO fdsc VALUES ('Amit', 1, 90.5)\")\n",
    "c.execute(\"INSERT INTO fdsc VALUES ('Ravi', 2, 85.0)\")\n",
    "c.execute(\"INSERT INTO fdsc VALUES ('Sita', 1, 88.0)\")\n",
    "c.execute(\"INSERT INTO fdsc VALUES ('Gita', 2, 92.0)\")\n",
    "c.execute(\"INSERT INTO fdsc VALUES ('Rahul', 1, 95.0)\")\n",
    "c.execute(\"INSERT INTO fdsc VALUES ('Priya', 2, 80.0)\")\n",
    "c.execute(\"INSERT INTO fdsc VALUES ('Anil', 1, 78.0)\")"
   ]
  },
  {
   "cell_type": "code",
   "execution_count": 11,
   "id": "0ebc841e",
   "metadata": {},
   "outputs": [],
   "source": [
    "data = c.execute(\"Select * from fdsc\")"
   ]
  },
  {
   "cell_type": "code",
   "execution_count": 12,
   "id": "3468f9ae",
   "metadata": {},
   "outputs": [
    {
     "name": "stdout",
     "output_type": "stream",
     "text": [
      "('sachin', 1, 100.0)\n",
      "('Amit', 1, 90.5)\n",
      "('Ravi', 2, 85.0)\n",
      "('Sita', 1, 88.0)\n",
      "('Gita', 2, 92.0)\n",
      "('Rahul', 1, 95.0)\n",
      "('Priya', 2, 80.0)\n",
      "('Anil', 1, 78.0)\n"
     ]
    }
   ],
   "source": [
    "for i in data:\n",
    "    print(i)"
   ]
  },
  {
   "cell_type": "code",
   "execution_count": 14,
   "id": "feebbaf1",
   "metadata": {},
   "outputs": [],
   "source": [
    "db.commit()\n",
    "db.close()"
   ]
  },
  {
   "cell_type": "code",
   "execution_count": 2,
   "id": "6e893651",
   "metadata": {},
   "outputs": [
    {
     "data": {
      "text/plain": [
       "[('sachin', 1, 100.0),\n",
       " ('Amit', 1, 90.5),\n",
       " ('Gita', 2, 92.0),\n",
       " ('Rahul', 1, 95.0)]"
      ]
     },
     "execution_count": 2,
     "metadata": {},
     "output_type": "execute_result"
    }
   ],
   "source": [
    "import sqlite3\n",
    "db = sqlite3.connect('ineuron.db')\n",
    "c = db.cursor()\n",
    "result = c.execute('Select * from fdsc where mark > 90').fetchall()\n",
    "db.close()\n",
    "result"
   ]
  },
  {
   "cell_type": "code",
   "execution_count": 6,
   "id": "017f6311",
   "metadata": {},
   "outputs": [
    {
     "data": {
      "text/plain": [
       "<sqlite3.Cursor at 0x1238e924bc0>"
      ]
     },
     "execution_count": 6,
     "metadata": {},
     "output_type": "execute_result"
    }
   ],
   "source": [
    "# so i want to apply join operation so create two tables\n",
    "db = sqlite3.connect('join_example.db')\n",
    "c =db.cursor()\n",
    "c.execute('CREATE TABLE IF NOT EXISTS student (student_id INTEGER, name TEXT, age INTEGER, mail TEXT, mark INTEGER)')\n",
    "c.execute('CREATE TABLE IF NOT EXISTS address (student_id INTEGER, pin_code INTEGER, location TEXT, nearby TEXT, phone_no INTEGER)')"
   ]
  },
  {
   "cell_type": "code",
   "execution_count": 7,
   "id": "622cd750",
   "metadata": {},
   "outputs": [
    {
     "name": "stdout",
     "output_type": "stream",
     "text": [
      "12 student records inserted successfully!\n"
     ]
    }
   ],
   "source": [
    "# Insert 12 dummy student records\n",
    "c.execute('INSERT INTO student VALUES (1, \"John Doe\", 20, \"john.doe@gmail.com\", 85)')\n",
    "c.execute('INSERT INTO student VALUES (2, \"Jane Smith\", 21, \"jane.smith@gmail.com\", 92)')\n",
    "c.execute('INSERT INTO student VALUES (3, \"Mike Johnson\", 19, \"mike.johnson@gmail.com\", 78)')\n",
    "c.execute('INSERT INTO student VALUES (4, \"Sarah Wilson\", 22, \"sarah.wilson@gmail.com\", 88)')\n",
    "c.execute('INSERT INTO student VALUES (5, \"David Brown\", 20, \"david.brown@gmail.com\", 95)')\n",
    "c.execute('INSERT INTO student VALUES (6, \"Emily Davis\", 23, \"emily.davis@gmail.com\", 82)')\n",
    "c.execute('INSERT INTO student VALUES (7, \"Chris Miller\", 21, \"chris.miller@gmail.com\", 90)')\n",
    "c.execute('INSERT INTO student VALUES (8, \"Lisa Garcia\", 19, \"lisa.garcia@gmail.com\", 87)')\n",
    "c.execute('INSERT INTO student VALUES (9, \"Tom Anderson\", 24, \"tom.anderson@gmail.com\", 91)')\n",
    "c.execute('INSERT INTO student VALUES (10, \"Amy Taylor\", 20, \"amy.taylor@gmail.com\", 83)')\n",
    "c.execute('INSERT INTO student VALUES (11, \"Ryan Thomas\", 22, \"ryan.thomas@gmail.com\", 89)')\n",
    "c.execute('INSERT INTO student VALUES (12, \"Jessica Lee\", 21, \"jessica.lee@gmail.com\", 94)')\n",
    "db.commit()\n",
    "print(\"12 student records inserted successfully!\")"
   ]
  },
  {
   "cell_type": "code",
   "execution_count": 8,
   "id": "e38b3ad8",
   "metadata": {},
   "outputs": [
    {
     "name": "stdout",
     "output_type": "stream",
     "text": [
      "Total students in database: 12\n",
      "==========================================================================================\n",
      "ID  | Name            | Age | Email                     | Mark\n",
      "------------------------------------------------------------------------------------------\n",
      "1   | John Doe        | 20  | john.doe@gmail.com        | 85  \n",
      "2   | Jane Smith      | 21  | jane.smith@gmail.com      | 92  \n",
      "3   | Mike Johnson    | 19  | mike.johnson@gmail.com    | 78  \n",
      "4   | Sarah Wilson    | 22  | sarah.wilson@gmail.com    | 88  \n",
      "5   | David Brown     | 20  | david.brown@gmail.com     | 95  \n",
      "6   | Emily Davis     | 23  | emily.davis@gmail.com     | 82  \n",
      "7   | Chris Miller    | 21  | chris.miller@gmail.com    | 90  \n",
      "8   | Lisa Garcia     | 19  | lisa.garcia@gmail.com     | 87  \n",
      "9   | Tom Anderson    | 24  | tom.anderson@gmail.com    | 91  \n",
      "10  | Amy Taylor      | 20  | amy.taylor@gmail.com      | 83  \n",
      "11  | Ryan Thomas     | 22  | ryan.thomas@gmail.com     | 89  \n",
      "12  | Jessica Lee     | 21  | jessica.lee@gmail.com     | 94  \n",
      "==========================================================================================\n"
     ]
    }
   ],
   "source": [
    "# Display all student records clearly\n",
    "result = c.execute('SELECT * FROM student ORDER BY student_id').fetchall()\n",
    "print(f\"Total students in database: {len(result)}\")\n",
    "print(\"=\" * 90)\n",
    "print(f\"{'ID':<3} | {'Name':<15} | {'Age':<3} | {'Email':<25} | {'Mark':<4}\")\n",
    "print(\"-\" * 90)\n",
    "for record in result:\n",
    "    print(f\"{record[0]:<3} | {record[1]:<15} | {record[2]:<3} | {record[3]:<25} | {record[4]:<4}\")\n",
    "print(\"=\" * 90)"
   ]
  },
  {
   "cell_type": "code",
   "execution_count": 9,
   "id": "b4956465",
   "metadata": {},
   "outputs": [],
   "source": [
    "c.execute('INSERT INTO address VALUES (1, 123456, \"New York\", \"Central Park\", 1234567890)')\n",
    "c.execute('INSERT INTO address VALUES (2, 234567, \"Los Angeles\", \"Hollywood\", 2345678901)')\n",
    "c.execute('INSERT INTO address VALUES (3, 345678, \"Chicago\", \"Downtown\", 3456789012)')\n",
    "c.execute('INSERT INTO address VALUES (4, 456789, \"Houston\", \"Galleria\", 4567890123)')\n",
    "c.execute('INSERT INTO address VALUES (5, 567890, \"Phoenix\", \"Desert Ridge\", 5678901234)')\n",
    "c.execute('INSERT INTO address VALUES (6, 678901, \"San Francisco\", \"Golden Gate\", 6789012345)')\n",
    "c.execute('INSERT INTO address VALUES (7, 789012, \"Seattle\", \"Pike Place\", 7890123456)')\n",
    "c.execute('INSERT INTO address VALUES (8, 890123, \"Miami\", \"South Beach\", 8901234567)')\n",
    "c.execute('INSERT INTO address VALUES (9, 901234, \"Boston\", \"Fenway Park\", 9012345678)')\n",
    "c.execute('INSERT INTO address VALUES (10, 123456, \"Atlanta\", \"Centennial Park\", 1234567890)')\n",
    "c.execute('INSERT INTO address VALUES (11, 234567, \"Dallas\", \"Deep Ellum\", 2345678901)')\n",
    "c.execute('INSERT INTO address VALUES (12, 345678, \"Denver\", \"Lodo\", 3456789012)')\n",
    "db.commit()"
   ]
  },
  {
   "cell_type": "code",
   "execution_count": 10,
   "id": "59f96c0d",
   "metadata": {},
   "outputs": [
    {
     "name": "stdout",
     "output_type": "stream",
     "text": [
      "Total addresses in database: 12\n",
      "==========================================================================================\n",
      "ID  | Pin Code | Location        | Nearby          | Phone No  \n",
      "------------------------------------------------------------------------------------------\n",
      "1   | 123456   | New York        | Central Park    | 1234567890\n",
      "2   | 234567   | Los Angeles     | Hollywood       | 2345678901\n",
      "3   | 345678   | Chicago         | Downtown        | 3456789012\n",
      "4   | 456789   | Houston         | Galleria        | 4567890123\n",
      "5   | 567890   | Phoenix         | Desert Ridge    | 5678901234\n",
      "6   | 678901   | San Francisco   | Golden Gate     | 6789012345\n",
      "7   | 789012   | Seattle         | Pike Place      | 7890123456\n",
      "8   | 890123   | Miami           | South Beach     | 8901234567\n",
      "9   | 901234   | Boston          | Fenway Park     | 9012345678\n",
      "10  | 123456   | Atlanta         | Centennial Park | 1234567890\n",
      "11  | 234567   | Dallas          | Deep Ellum      | 2345678901\n",
      "12  | 345678   | Denver          | Lodo            | 3456789012\n"
     ]
    }
   ],
   "source": [
    "# Display all address records clearly\n",
    "result = c.execute('SELECT * FROM address ORDER BY student_id').fetchall()\n",
    "print(f\"Total addresses in database: {len(result)}\")  \n",
    "print(\"=\" * 90)\n",
    "print(f\"{'ID':<3} | {'Pin Code':<8} | {'Location':<15} | {'Nearby':<15} | {'Phone No':<10}\")\n",
    "print(\"-\" * 90)\n",
    "for record in result:\n",
    "    print(f\"{record[0]:<3} | {record[1]:<8} | {record[2]:<15} | {record[3]:<15} | {record[4]:<10}\")\n",
    "db.close()\n"
   ]
  },
  {
   "cell_type": "code",
   "execution_count": 11,
   "id": "e6757675",
   "metadata": {},
   "outputs": [
    {
     "name": "stdout",
     "output_type": "stream",
     "text": [
      "Total records after left join: 12\n",
      "==========================================================================================\n",
      "Name            | Age | Email                     | Pin Code | Location       \n",
      "------------------------------------------------------------------------------------------\n",
      "John Doe        | 20  | john.doe@gmail.com        | 123456   | New York       \n",
      "Jane Smith      | 21  | jane.smith@gmail.com      | 234567   | Los Angeles    \n",
      "Mike Johnson    | 19  | mike.johnson@gmail.com    | 345678   | Chicago        \n",
      "Sarah Wilson    | 22  | sarah.wilson@gmail.com    | 456789   | Houston        \n",
      "David Brown     | 20  | david.brown@gmail.com     | 567890   | Phoenix        \n",
      "Emily Davis     | 23  | emily.davis@gmail.com     | 678901   | San Francisco  \n",
      "Chris Miller    | 21  | chris.miller@gmail.com    | 789012   | Seattle        \n",
      "Lisa Garcia     | 19  | lisa.garcia@gmail.com     | 890123   | Miami          \n",
      "Tom Anderson    | 24  | tom.anderson@gmail.com    | 901234   | Boston         \n",
      "Amy Taylor      | 20  | amy.taylor@gmail.com      | 123456   | Atlanta        \n",
      "Ryan Thomas     | 22  | ryan.thomas@gmail.com     | 234567   | Dallas         \n",
      "Jessica Lee     | 21  | jessica.lee@gmail.com     | 345678   | Denver         \n"
     ]
    }
   ],
   "source": [
    "# apply left join operation\n",
    "db = sqlite3.connect('join_example.db')\n",
    "c = db.cursor()\n",
    "result = c.execute('SELECT student.name, student.age, student.mail, address.pin_code, address.location FROM student LEFT JOIN address ON student.student_id = address.student_id').fetchall()\n",
    "print(f\"Total records after left join: {len(result)}\")  \n",
    "print(\"=\" * 90)\n",
    "print(f\"{'Name':<15} | {'Age':<3} | {'Email':<25} | {'Pin Code':<8} | {'Location':<15}\")\n",
    "print(\"-\" * 90)\n",
    "for record in result:\n",
    "    print(f\"{record[0]:<15} | {record[1]:<3} | {record[2]:<25} | {record[3]:<8} | {record[4]:<15}\")\n",
    "db.close()  \n"
   ]
  },
  {
   "cell_type": "code",
   "execution_count": 12,
   "id": "600b021d",
   "metadata": {},
   "outputs": [
    {
     "name": "stdout",
     "output_type": "stream",
     "text": [
      "Total records after inner join: 12\n",
      "==========================================================================================\n",
      "Name            | Age | Email                     | Pin Code | Location       \n",
      "------------------------------------------------------------------------------------------\n",
      "John Doe        | 20  | john.doe@gmail.com        | 123456   | New York       \n",
      "Jane Smith      | 21  | jane.smith@gmail.com      | 234567   | Los Angeles    \n",
      "Mike Johnson    | 19  | mike.johnson@gmail.com    | 345678   | Chicago        \n",
      "Sarah Wilson    | 22  | sarah.wilson@gmail.com    | 456789   | Houston        \n",
      "David Brown     | 20  | david.brown@gmail.com     | 567890   | Phoenix        \n",
      "Emily Davis     | 23  | emily.davis@gmail.com     | 678901   | San Francisco  \n",
      "Chris Miller    | 21  | chris.miller@gmail.com    | 789012   | Seattle        \n",
      "Lisa Garcia     | 19  | lisa.garcia@gmail.com     | 890123   | Miami          \n",
      "Tom Anderson    | 24  | tom.anderson@gmail.com    | 901234   | Boston         \n",
      "Amy Taylor      | 20  | amy.taylor@gmail.com      | 123456   | Atlanta        \n",
      "Ryan Thomas     | 22  | ryan.thomas@gmail.com     | 234567   | Dallas         \n",
      "Jessica Lee     | 21  | jessica.lee@gmail.com     | 345678   | Denver         \n"
     ]
    }
   ],
   "source": [
    "# Apply inner join operation\n",
    "db = sqlite3.connect('join_example.db')\n",
    "c = db.cursor()\n",
    "result = c.execute('SELECT student.name, student.age, student.mail, address.pin_code, address.location FROM student INNER JOIN address ON student.student_id = address.student_id').fetchall()\n",
    "print(f\"Total records after inner join: {len(result)}\")\n",
    "print(\"=\" * 90)\n",
    "print(f\"{'Name':<15} | {'Age':<3} | {'Email':<25} | {'Pin Code':<8} | {'Location':<15}\")\n",
    "print(\"-\" * 90)\n",
    "for record in result:\n",
    "    print(f\"{record[0]:<15} | {record[1]:<3} | {record[2]:<25} | {record[3]:<8} | {record[4]:<15}\")\n",
    "db.close()"
   ]
  },
  {
   "cell_type": "code",
   "execution_count": 14,
   "id": "73c27752",
   "metadata": {},
   "outputs": [
    {
     "name": "stdout",
     "output_type": "stream",
     "text": [
      "Record deleted successfully!\n"
     ]
    }
   ],
   "source": [
    "# Delete a record from the student table\n",
    "db = sqlite3.connect('join_example.db')\n",
    "c = db.cursor()\n",
    "# Assuming we want to delete a student with age 19\n",
    "c.execute('delete from student where age == 19')\n",
    "db.commit()\n",
    "print(\"Record deleted successfully!\")\n"
   ]
  },
  {
   "cell_type": "code",
   "execution_count": 19,
   "id": "0ae952b1",
   "metadata": {},
   "outputs": [
    {
     "name": "stdout",
     "output_type": "stream",
     "text": [
      "Total students in database: 10\n",
      "==========================================================================================\n",
      "ID  | Name            | Age | Email                     | Mark\n",
      "------------------------------------------------------------------------------------------\n",
      "1   | John Doe        | 20  | john.doe@gmail.com        | 96  \n",
      "2   | Jane Smith      | 21  | jane.smith@gmail.com      | 92  \n",
      "4   | Sarah Wilson    | 22  | sarah.wilson@gmail.com    | 88  \n",
      "5   | David Brown     | 20  | david.brown@gmail.com     | 95  \n",
      "6   | Emily Davis     | 23  | emily.davis@gmail.com     | 82  \n",
      "7   | Chris Miller    | 21  | chris.miller@gmail.com    | 90  \n",
      "9   | Tom Anderson    | 24  | tom.anderson@gmail.com    | 91  \n",
      "10  | Amy Taylor      | 20  | amy.taylor@gmail.com      | 83  \n",
      "11  | Ryan Thomas     | 22  | ryan.thomas@gmail.com     | 89  \n",
      "12  | Jessica Lee     | 21  | jessica.lee@gmail.com     | 94  \n"
     ]
    }
   ],
   "source": [
    "# Display all student records clearly\n",
    "result = c.execute('SELECT * FROM student ORDER BY student_id').fetchall()\n",
    "print(f\"Total students in database: {len(result)}\")\n",
    "print(\"=\" * 90)\n",
    "print(f\"{'ID':<3} | {'Name':<15} | {'Age':<3} | {'Email':<25} | {'Mark':<4}\")\n",
    "print(\"-\" * 90)\n",
    "for record in result:\n",
    "    print(f\"{record[0]:<3} | {record[1]:<15} | {record[2]:<3} | {record[3]:<25} | {record[4]:<4}\")\n",
    "db.close()"
   ]
  },
  {
   "cell_type": "code",
   "execution_count": 18,
   "id": "652c6a2b",
   "metadata": {},
   "outputs": [
    {
     "name": "stdout",
     "output_type": "stream",
     "text": [
      "Record updated successfully!\n"
     ]
    }
   ],
   "source": [
    "#update a record in the student table\n",
    "db = sqlite3.connect('join_example.db')\n",
    "c = db.cursor()\n",
    "# Assuming we want to update the mark of student with ID 1\n",
    "c.execute('UPDATE student SET mark = 96 WHERE student_id = 1')\n",
    "db.commit()\n",
    "print(\"Record updated successfully!\")"
   ]
  }
 ],
 "metadata": {
  "kernelspec": {
   "display_name": "Python 3",
   "language": "python",
   "name": "python3"
  },
  "language_info": {
   "codemirror_mode": {
    "name": "ipython",
    "version": 3
   },
   "file_extension": ".py",
   "mimetype": "text/x-python",
   "name": "python",
   "nbconvert_exporter": "python",
   "pygments_lexer": "ipython3",
   "version": "3.13.5"
  }
 },
 "nbformat": 4,
 "nbformat_minor": 5
}
