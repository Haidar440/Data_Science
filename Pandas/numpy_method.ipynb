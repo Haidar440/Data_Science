{
 "cells": [
  {
   "cell_type": "code",
   "execution_count": 53,
   "id": "e4313385",
   "metadata": {},
   "outputs": [],
   "source": [
    "\n",
    "import numpy as np"
   ]
  },
  {
   "cell_type": "markdown",
   "id": "347bb7ee",
   "metadata": {},
   "source": [
    "# NumPy Array Methods and Examples\n",
    "\n",
    "This notebook demonstrates commonly used NumPy methods for creating, manipulating, and analyzing arrays. Each code cell is accompanied by a markdown explanation for clarity."
   ]
  },
  {
   "cell_type": "code",
   "execution_count": 54,
   "id": "47daf01d",
   "metadata": {},
   "outputs": [
    {
     "data": {
      "text/plain": [
       "array([ 1,  2,  4, 45,  5,  6,  6])"
      ]
     },
     "execution_count": 54,
     "metadata": {},
     "output_type": "execute_result"
    }
   ],
   "source": [
    "l = [1,2,4,45,5,6,6]\n",
    "arr = np.array(l)\n",
    "arr"
   ]
  },
  {
   "cell_type": "markdown",
   "id": "7a9e17e9",
   "metadata": {},
   "source": [
    "## Creating a NumPy Array\n",
    "\n",
    "You can create a NumPy array from a Python list using `np.array()`. This is the foundation for most NumPy operations."
   ]
  },
  {
   "cell_type": "markdown",
   "id": "99507a86",
   "metadata": {},
   "source": [
    "# NumPy Methods\n",
    "NumPy provides a wide range of methods for performing operations on arrays.\n",
    "These methods allow for efficient manipulation and computation on large datasets.\n",
    "\n",
    "Some commonly used NumPy methods include:\n",
    "\n",
    "- **`np.array()`**: Create a NumPy array.\n",
    "  ```python\n",
    "  arr = np.array([1, 2, 3])\n",
    "  print(arr)\n",
    "  # Output: [1 2 3]\n",
    "  ```\n",
    "\n",
    "- **`np.zeros()`**: Create an array filled with zeros.\n",
    "  ```python\n",
    "  zeros = np.zeros((2, 3))\n",
    "  print(zeros)\n",
    "  # Output: [[0. 0. 0.]\n",
    "  #          [0. 0. 0.]]\n",
    "  ```\n",
    "\n",
    "- **`np.ones()`**: Create an array filled with ones.\n",
    "  ```python\n",
    "  ones = np.ones((2, 3))\n",
    "  print(ones)\n",
    "  # Output: [[1. 1. 1.]\n",
    "  #          [1. 1. 1.]]\n",
    "  ```\n",
    "\n",
    "- **`np.arange()`**: Create an array with a range of values.\n",
    "  ```python\n",
    "  arr = np.arange(0, 10, 2)\n",
    "  print(arr)\n",
    "  # Output: [0 2 4 6 8]\n",
    "  ```\n",
    "\n",
    "- **`np.linspace()`**: Create an array with evenly spaced values.\n",
    "  ```python\n",
    "  arr = np.linspace(0, 1, 5)\n",
    "  print(arr)\n",
    "  # Output: [0.   0.25 0.5  0.75 1.  ]\n",
    "  ```\n",
    "\n",
    "- **`np.reshape()`**: Change the shape of an array.\n",
    "  ```python\n",
    "  arr = np.arange(6)\n",
    "  reshaped = arr.reshape((2, 3))\n",
    "  print(reshaped)\n",
    "  # Output: [[0 1 2]\n",
    "  #          [3 4 5]]\n",
    "  ```\n",
    "\n",
    "- **`np.concatenate()`**: Join two or more arrays.\n",
    "  ```python\n",
    "  a = np.array([1, 2])\n",
    "  b = np.array([3, 4])\n",
    "  combined = np.concatenate((a, b))\n",
    "  print(combined)\n",
    "  # Output: [1 2 3 4]\n",
    "  ```\n",
    "\n",
    "- **`np.split()`**: Split an array into multiple sub-arrays.\n",
    "  ```python\n",
    "  arr = np.array([0, 1, 2, 3, 4, 5])\n",
    "  split = np.split(arr, 3)\n",
    "  print(split)\n",
    "  # Output: [array([0, 1]), array([2, 3]), array([4, 5])]\n",
    "  ```\n",
    "\n",
    "- **`np.mean()`**: Compute the mean of an array.\n",
    "  ```python\n",
    "  arr = np.array([1, 2, 3, 4])\n",
    "  print(np.mean(arr))\n",
    "  # Output: 2.5\n",
    "  ```\n",
    "\n",
    "- **`np.sum()`**: Compute the sum of an array.\n",
    "  ```python\n",
    "  arr = np.array([1, 2, 3, 4])\n",
    "  print(np.sum(arr))\n",
    "  # Output: 10\n",
    "  ```"
   ]
  },
  {
   "cell_type": "code",
   "execution_count": 55,
   "id": "3c266e91",
   "metadata": {},
   "outputs": [
    {
     "data": {
      "text/plain": [
       "array([0., 0., 0., 0., 0.])"
      ]
     },
     "execution_count": 55,
     "metadata": {},
     "output_type": "execute_result"
    }
   ],
   "source": [
    "#Let's see one by one\n",
    "np.zeros(5)"
   ]
  },
  {
   "cell_type": "markdown",
   "id": "f0f84051",
   "metadata": {},
   "source": [
    "## np.zeros\n",
    "\n",
    "`np.zeros()` creates a new array of the given shape and type, filled with zeros. Useful for initializing arrays for further computation."
   ]
  },
  {
   "cell_type": "code",
   "execution_count": 56,
   "id": "84120363",
   "metadata": {},
   "outputs": [
    {
     "data": {
      "text/plain": [
       "array([[[0, 0, 0],\n",
       "        [0, 0, 0],\n",
       "        [0, 0, 0]],\n",
       "\n",
       "       [[0, 0, 0],\n",
       "        [0, 0, 0],\n",
       "        [0, 0, 0]],\n",
       "\n",
       "       [[0, 0, 0],\n",
       "        [0, 0, 0],\n",
       "        [0, 0, 0]]])"
      ]
     },
     "execution_count": 56,
     "metadata": {},
     "output_type": "execute_result"
    }
   ],
   "source": [
    "\n",
    "np.zeros((3,3,3),dtype=int)"
   ]
  },
  {
   "cell_type": "code",
   "execution_count": 57,
   "id": "d2fae080",
   "metadata": {},
   "outputs": [
    {
     "data": {
      "text/plain": [
       "array([1., 1., 1., 1., 1.])"
      ]
     },
     "execution_count": 57,
     "metadata": {},
     "output_type": "execute_result"
    }
   ],
   "source": [
    "#np.ones\n",
    "np.ones(5)"
   ]
  },
  {
   "cell_type": "markdown",
   "id": "3aea84aa",
   "metadata": {},
   "source": [
    "## np.ones\n",
    "\n",
    "`np.ones()` creates a new array of the given shape and type, filled with ones. This is useful for initializing arrays where you want all values to start as 1."
   ]
  },
  {
   "cell_type": "code",
   "execution_count": 58,
   "id": "7b66f84c",
   "metadata": {},
   "outputs": [
    {
     "data": {
      "text/plain": [
       "array([[1., 1., 1., 1., 1., 1.],\n",
       "       [1., 1., 1., 1., 1., 1.],\n",
       "       [1., 1., 1., 1., 1., 1.]])"
      ]
     },
     "execution_count": 58,
     "metadata": {},
     "output_type": "execute_result"
    }
   ],
   "source": [
    "np.ones((3,6))"
   ]
  },
  {
   "cell_type": "code",
   "execution_count": 59,
   "id": "75edd5dd",
   "metadata": {},
   "outputs": [
    {
     "data": {
      "text/plain": [
       "array([[6., 6., 6., 6., 6., 6.],\n",
       "       [6., 6., 6., 6., 6., 6.],\n",
       "       [6., 6., 6., 6., 6., 6.]])"
      ]
     },
     "execution_count": 59,
     "metadata": {},
     "output_type": "execute_result"
    }
   ],
   "source": [
    "5+np.ones((3,6))"
   ]
  },
  {
   "cell_type": "code",
   "execution_count": 60,
   "id": "66cd44be",
   "metadata": {},
   "outputs": [
    {
     "data": {
      "text/plain": [
       "array([[[0., 0.],\n",
       "        [0., 0.],\n",
       "        [0., 0.],\n",
       "        [0., 0.],\n",
       "        [0., 0.],\n",
       "        [0., 0.]],\n",
       "\n",
       "       [[0., 0.],\n",
       "        [0., 0.],\n",
       "        [0., 0.],\n",
       "        [0., 0.],\n",
       "        [0., 0.],\n",
       "        [0., 0.]],\n",
       "\n",
       "       [[0., 0.],\n",
       "        [0., 0.],\n",
       "        [0., 0.],\n",
       "        [0., 0.],\n",
       "        [0., 0.],\n",
       "        [0., 0.]],\n",
       "\n",
       "       [[0., 0.],\n",
       "        [0., 0.],\n",
       "        [0., 0.],\n",
       "        [0., 0.],\n",
       "        [0., 0.],\n",
       "        [0., 0.]],\n",
       "\n",
       "       [[0., 0.],\n",
       "        [0., 0.],\n",
       "        [0., 0.],\n",
       "        [0., 0.],\n",
       "        [0., 0.],\n",
       "        [0., 0.]],\n",
       "\n",
       "       [[0., 0.],\n",
       "        [0., 0.],\n",
       "        [0., 0.],\n",
       "        [0., 0.],\n",
       "        [0., 0.],\n",
       "        [0., 0.]]])"
      ]
     },
     "execution_count": 60,
     "metadata": {},
     "output_type": "execute_result"
    }
   ],
   "source": [
    "#np.empty\n",
    "# Creates an array of the given shape and type, without initializing entries.\n",
    "np.empty((6, 6,2))"
   ]
  },
  {
   "cell_type": "markdown",
   "id": "ea38cb31",
   "metadata": {},
   "source": [
    "## np.empty\n",
    "\n",
    "`np.empty()` creates a new array of the given shape and type, without initializing entries. The values in the array are whatever happens to already exist at that memory location."
   ]
  },
  {
   "cell_type": "code",
   "execution_count": 61,
   "id": "30337fb7",
   "metadata": {},
   "outputs": [
    {
     "data": {
      "text/plain": [
       "array([2., 4., 6.])"
      ]
     },
     "execution_count": 61,
     "metadata": {},
     "output_type": "execute_result"
    }
   ],
   "source": [
    "#np.linspace\n",
    "# Returns evenly spaced numbers over a specified interval.\n",
    "# The endpoint is included by default.\n",
    "np.linspace(2, 6)\n",
    "#how it works\n",
    "# The function takes three arguments: start, stop, and num (the number of samples to generate).\n",
    "# It returns an array of evenly spaced values between the start and stop values.\n",
    "# The default value for num is 50 if not specified.\n",
    "np.linspace(2, 6, 3)  # Example with specified number of samples"
   ]
  },
  {
   "cell_type": "markdown",
   "id": "8a496f40",
   "metadata": {},
   "source": [
    "## np.linspace\n",
    "\n",
    "`np.linspace()` returns evenly spaced numbers over a specified interval. Useful for generating sequences of numbers with a specific number of elements."
   ]
  },
  {
   "cell_type": "code",
   "execution_count": 62,
   "id": "cdef770b",
   "metadata": {},
   "outputs": [
    {
     "data": {
      "text/plain": [
       "(array([2. , 2.8, 3.6, 4.4, 5.2, 6. ]), np.float64(0.8))"
      ]
     },
     "execution_count": 62,
     "metadata": {},
     "output_type": "execute_result"
    }
   ],
   "source": [
    "\n",
    "np.linspace(2,6,10,endpoint=False).reshape(5,2)  # Example with endpoint set to False\n",
    "np.linspace(2,6,6,retstep=True)"
   ]
  },
  {
   "cell_type": "code",
   "execution_count": 63,
   "id": "121a68e6",
   "metadata": {},
   "outputs": [
    {
     "data": {
      "text/plain": [
       "array([ 8.        , 10.0793684 , 12.69920842, 16.        , 20.1587368 ,\n",
       "       25.39841683, 32.        , 40.3174736 , 50.79683366, 64.        ])"
      ]
     },
     "execution_count": 63,
     "metadata": {},
     "output_type": "execute_result"
    }
   ],
   "source": [
    "np.logspace(3, 6, 10, endpoint=True ,base=2)"
   ]
  },
  {
   "cell_type": "code",
   "execution_count": 64,
   "id": "bdb925e3",
   "metadata": {},
   "outputs": [
    {
     "data": {
      "text/plain": [
       "array([[1, 2, 3],\n",
       "       [4, 5, 6],\n",
       "       [7, 8, 9]])"
      ]
     },
     "execution_count": 64,
     "metadata": {},
     "output_type": "execute_result"
    }
   ],
   "source": [
    "a = np.arange(1, 10).reshape(3,3)\n",
    "a"
   ]
  },
  {
   "cell_type": "markdown",
   "id": "94835575",
   "metadata": {},
   "source": [
    "## np.arange and np.reshape\n",
    "\n",
    "- `np.arange()` creates an array with a range of values, similar to Python's built-in range but returns a NumPy array.\n",
    "- `np.reshape()` changes the shape of an array without changing its data."
   ]
  },
  {
   "cell_type": "code",
   "execution_count": 65,
   "id": "0e67e424",
   "metadata": {},
   "outputs": [
    {
     "data": {
      "text/plain": [
       "np.int64(9)"
      ]
     },
     "execution_count": 65,
     "metadata": {},
     "output_type": "execute_result"
    }
   ],
   "source": [
    "a.max()"
   ]
  },
  {
   "cell_type": "markdown",
   "id": "111909c5",
   "metadata": {},
   "source": [
    "## np.max and axis argument\n",
    "\n",
    "- `np.max()` or `array.max()` returns the maximum value in the array.\n",
    "- The `axis` argument specifies whether to compute the maximum across rows or columns."
   ]
  },
  {
   "cell_type": "code",
   "execution_count": 66,
   "id": "db234d0c",
   "metadata": {},
   "outputs": [
    {
     "data": {
      "text/plain": [
       "array([7, 8, 9])"
      ]
     },
     "execution_count": 66,
     "metadata": {},
     "output_type": "execute_result"
    }
   ],
   "source": [
    "a.max(axis=0)  # Maximum value along the first axis (columns)"
   ]
  },
  {
   "cell_type": "code",
   "execution_count": 67,
   "id": "abe59f52",
   "metadata": {},
   "outputs": [
    {
     "data": {
      "text/plain": [
       "array([3, 6, 9])"
      ]
     },
     "execution_count": 67,
     "metadata": {},
     "output_type": "execute_result"
    }
   ],
   "source": [
    "a.max(axis=1)  # Maximum value along the second axis (rows)"
   ]
  },
  {
   "cell_type": "code",
   "execution_count": 68,
   "id": "ff78d1f3",
   "metadata": {},
   "outputs": [
    {
     "data": {
      "text/plain": [
       "array([[11, 12, 13],\n",
       "       [14, 15, 16],\n",
       "       [17, 18, 19]])"
      ]
     },
     "execution_count": 68,
     "metadata": {},
     "output_type": "execute_result"
    }
   ],
   "source": [
    "10+a"
   ]
  },
  {
   "cell_type": "markdown",
   "id": "0f5f28a4",
   "metadata": {},
   "source": [
    "## Broadcasting in NumPy\n",
    "\n",
    "Broadcasting allows NumPy to perform arithmetic operations on arrays of different shapes. For example, adding a scalar to an array adds that value to every element."
   ]
  },
  {
   "cell_type": "code",
   "execution_count": 69,
   "id": "cb989996",
   "metadata": {},
   "outputs": [
    {
     "name": "stderr",
     "output_type": "stream",
     "text": [
      "C:\\Users\\haida\\AppData\\Local\\Temp\\ipykernel_14444\\4102073204.py:1: RuntimeWarning: divide by zero encountered in divide\n",
      "  a/0\n"
     ]
    },
    {
     "data": {
      "text/plain": [
       "array([[inf, inf, inf],\n",
       "       [inf, inf, inf],\n",
       "       [inf, inf, inf]])"
      ]
     },
     "execution_count": 69,
     "metadata": {},
     "output_type": "execute_result"
    }
   ],
   "source": [
    "a/0"
   ]
  },
  {
   "cell_type": "code",
   "execution_count": 70,
   "id": "36bddd8c",
   "metadata": {},
   "outputs": [
    {
     "data": {
      "text/plain": [
       "array([[ 1,  4,  9],\n",
       "       [16, 25, 36],\n",
       "       [49, 64, 81]])"
      ]
     },
     "execution_count": 70,
     "metadata": {},
     "output_type": "execute_result"
    }
   ],
   "source": [
    "a**2"
   ]
  },
  {
   "cell_type": "markdown",
   "id": "2cb540ce",
   "metadata": {},
   "source": [
    "## Element-wise Operations\n",
    "\n",
    "NumPy supports element-wise operations, such as squaring every element in an array using `**` or functions like `np.sqrt()` and `np.exp()`."
   ]
  },
  {
   "cell_type": "code",
   "execution_count": 71,
   "id": "6f7018f4",
   "metadata": {},
   "outputs": [
    {
     "data": {
      "text/plain": [
       "array([[ 1,  4,  9],\n",
       "       [16, 25, 36],\n",
       "       [49, 64, 81]])"
      ]
     },
     "execution_count": 71,
     "metadata": {},
     "output_type": "execute_result"
    }
   ],
   "source": [
    "pow(a, 2)  # Equivalent to a**2, raises each element to the power of 2"
   ]
  },
  {
   "cell_type": "code",
   "execution_count": 72,
   "id": "4db584ac",
   "metadata": {},
   "outputs": [
    {
     "data": {
      "text/plain": [
       "array([2, 4, 1])"
      ]
     },
     "execution_count": 72,
     "metadata": {},
     "output_type": "execute_result"
    }
   ],
   "source": [
    "b = np.array([2,4,1])\n",
    "b"
   ]
  },
  {
   "cell_type": "code",
   "execution_count": 73,
   "id": "7cbc64e6",
   "metadata": {},
   "outputs": [
    {
     "data": {
      "text/plain": [
       "array([[1, 2, 3],\n",
       "       [4, 5, 6],\n",
       "       [7, 8, 9]])"
      ]
     },
     "execution_count": 73,
     "metadata": {},
     "output_type": "execute_result"
    }
   ],
   "source": [
    "a"
   ]
  },
  {
   "cell_type": "code",
   "execution_count": 74,
   "id": "c9935350",
   "metadata": {},
   "outputs": [
    {
     "data": {
      "text/plain": [
       "array([[1, 4, 7],\n",
       "       [2, 5, 8],\n",
       "       [3, 6, 9]])"
      ]
     },
     "execution_count": 74,
     "metadata": {},
     "output_type": "execute_result"
    }
   ],
   "source": [
    "a.T"
   ]
  },
  {
   "cell_type": "code",
   "execution_count": 75,
   "id": "ce167b1b",
   "metadata": {},
   "outputs": [
    {
     "data": {
      "text/plain": [
       "array([[ 3,  8,  8],\n",
       "       [ 4,  9,  9],\n",
       "       [ 5, 10, 10]])"
      ]
     },
     "execution_count": 75,
     "metadata": {},
     "output_type": "execute_result"
    }
   ],
   "source": [
    "a.T+b"
   ]
  },
  {
   "cell_type": "code",
   "execution_count": 76,
   "id": "6c3a587b",
   "metadata": {},
   "outputs": [
    {
     "data": {
      "text/plain": [
       "array([[ 3,  6,  4],\n",
       "       [ 6,  9,  7],\n",
       "       [ 9, 12, 10]])"
      ]
     },
     "execution_count": 76,
     "metadata": {},
     "output_type": "execute_result"
    }
   ],
   "source": [
    "a+b"
   ]
  },
  {
   "cell_type": "code",
   "execution_count": 77,
   "id": "ca8845a1",
   "metadata": {},
   "outputs": [
    {
     "data": {
      "text/plain": [
       "array([[2, 4, 1]])"
      ]
     },
     "execution_count": 77,
     "metadata": {},
     "output_type": "execute_result"
    }
   ],
   "source": [
    "b = b.reshape(1, -1)\n",
    "\n",
    "b"
   ]
  },
  {
   "cell_type": "code",
   "execution_count": 78,
   "id": "1a1dab1c",
   "metadata": {},
   "outputs": [
    {
     "data": {
      "text/plain": [
       "array([[ 3,  4,  5],\n",
       "       [ 8,  9, 10],\n",
       "       [ 8,  9, 10]])"
      ]
     },
     "execution_count": 78,
     "metadata": {},
     "output_type": "execute_result"
    }
   ],
   "source": [
    "a + b.T "
   ]
  },
  {
   "cell_type": "code",
   "execution_count": 79,
   "id": "f13f5c4a",
   "metadata": {},
   "outputs": [
    {
     "data": {
      "text/plain": [
       "array([[1.        , 1.41421356, 1.73205081],\n",
       "       [2.        , 2.23606798, 2.44948974],\n",
       "       [2.64575131, 2.82842712, 3.        ]])"
      ]
     },
     "execution_count": 79,
     "metadata": {},
     "output_type": "execute_result"
    }
   ],
   "source": [
    "np.sqrt(a)  # Square root of each element in the array"
   ]
  },
  {
   "cell_type": "code",
   "execution_count": 80,
   "id": "29d1544f",
   "metadata": {},
   "outputs": [
    {
     "data": {
      "text/plain": [
       "array([[2.71828183e+00, 7.38905610e+00, 2.00855369e+01],\n",
       "       [5.45981500e+01, 1.48413159e+02, 4.03428793e+02],\n",
       "       [1.09663316e+03, 2.98095799e+03, 8.10308393e+03]])"
      ]
     },
     "execution_count": 80,
     "metadata": {},
     "output_type": "execute_result"
    }
   ],
   "source": [
    "np.exp(a)  # Exponential of each element in the array\n",
    "# Element-wise addition of a and b\n",
    "# a + b"
   ]
  },
  {
   "cell_type": "code",
   "execution_count": 81,
   "id": "decde782",
   "metadata": {},
   "outputs": [
    {
     "data": {
      "text/plain": [
       "array([[0.        , 0.30103   , 0.47712125],\n",
       "       [0.60205999, 0.69897   , 0.77815125],\n",
       "       [0.84509804, 0.90308999, 0.95424251]])"
      ]
     },
     "execution_count": 81,
     "metadata": {},
     "output_type": "execute_result"
    }
   ],
   "source": [
    "np.log10(a)  # Base-10 logarithm of each element in the array"
   ]
  },
  {
   "cell_type": "code",
   "execution_count": 82,
   "id": "067a9682",
   "metadata": {},
   "outputs": [],
   "source": [
    "import numpy as np\n",
    "x = np.array([1, 2, 3])\n"
   ]
  },
  {
   "cell_type": "code",
   "execution_count": 83,
   "id": "2b1bc966",
   "metadata": {},
   "outputs": [],
   "source": [
    "y = x"
   ]
  },
  {
   "cell_type": "code",
   "execution_count": 84,
   "id": "9497329c",
   "metadata": {},
   "outputs": [],
   "source": [
    "z = np.copy(x)  # Create a copy of x"
   ]
  },
  {
   "cell_type": "code",
   "execution_count": 85,
   "id": "2e70b26c",
   "metadata": {},
   "outputs": [
    {
     "data": {
      "text/plain": [
       "array([100,   2,   3])"
      ]
     },
     "execution_count": 85,
     "metadata": {},
     "output_type": "execute_result"
    }
   ],
   "source": [
    "x[0] = 100\n",
    "y"
   ]
  },
  {
   "cell_type": "code",
   "execution_count": 86,
   "id": "756272c3",
   "metadata": {},
   "outputs": [
    {
     "data": {
      "text/plain": [
       "array([1, 2, 3])"
      ]
     },
     "execution_count": 86,
     "metadata": {},
     "output_type": "execute_result"
    }
   ],
   "source": [
    "z"
   ]
  },
  {
   "cell_type": "code",
   "execution_count": 87,
   "id": "0c42d8d4",
   "metadata": {},
   "outputs": [
    {
     "data": {
      "text/plain": [
       "2530045571120"
      ]
     },
     "execution_count": 87,
     "metadata": {},
     "output_type": "execute_result"
    }
   ],
   "source": [
    "id(x)"
   ]
  },
  {
   "cell_type": "code",
   "execution_count": 88,
   "id": "f061e87d",
   "metadata": {},
   "outputs": [
    {
     "data": {
      "text/plain": [
       "2530045571120"
      ]
     },
     "execution_count": 88,
     "metadata": {},
     "output_type": "execute_result"
    }
   ],
   "source": [
    "id(y)"
   ]
  },
  {
   "cell_type": "code",
   "execution_count": 89,
   "id": "9845e79f",
   "metadata": {},
   "outputs": [
    {
     "data": {
      "text/plain": [
       "2530045570640"
      ]
     },
     "execution_count": 89,
     "metadata": {},
     "output_type": "execute_result"
    }
   ],
   "source": [
    "id(z)"
   ]
  },
  {
   "cell_type": "code",
   "execution_count": 90,
   "id": "d49da1f2",
   "metadata": {},
   "outputs": [
    {
     "data": {
      "text/plain": [
       "2530045514544"
      ]
     },
     "execution_count": 90,
     "metadata": {},
     "output_type": "execute_result"
    }
   ],
   "source": [
    "id(y[0])"
   ]
  },
  {
   "cell_type": "code",
   "execution_count": 91,
   "id": "dc0dd2e9",
   "metadata": {},
   "outputs": [
    {
     "data": {
      "text/plain": [
       "2530045514256"
      ]
     },
     "execution_count": 91,
     "metadata": {},
     "output_type": "execute_result"
    }
   ],
   "source": [
    "id(x[0])"
   ]
  },
  {
   "cell_type": "code",
   "execution_count": 92,
   "id": "5d54cff9",
   "metadata": {},
   "outputs": [
    {
     "data": {
      "text/plain": [
       "True"
      ]
     },
     "execution_count": 92,
     "metadata": {},
     "output_type": "execute_result"
    }
   ],
   "source": [
    "id(x[0])==id(y[0])"
   ]
  },
  {
   "cell_type": "code",
   "execution_count": 93,
   "id": "69c779ab",
   "metadata": {},
   "outputs": [],
   "source": [
    "import numpy as np\n",
    "\n",
    "x = np.array([1, 3, 5])\n",
    "\n",
    "y = x\n",
    "\n"
   ]
  },
  {
   "cell_type": "code",
   "execution_count": 94,
   "id": "a6fc7b2f",
   "metadata": {},
   "outputs": [
    {
     "name": "stdout",
     "output_type": "stream",
     "text": [
      "2530045514480 2530045514480\n",
      "2530045510160 2530045510160\n",
      "True\n"
     ]
    }
   ],
   "source": [
    "print(id(x[0]), id(y[0]))  # may match\n",
    "print(id(x[0]), id(x[0]))  # may differ, new object each call\n",
    "print(x[0] == y[0])  "
   ]
  },
  {
   "cell_type": "code",
   "execution_count": 95,
   "id": "3cfd4042",
   "metadata": {},
   "outputs": [
    {
     "data": {
      "text/plain": [
       "2530045514544"
      ]
     },
     "execution_count": 95,
     "metadata": {},
     "output_type": "execute_result"
    }
   ],
   "source": [
    "id(y[0])"
   ]
  },
  {
   "cell_type": "code",
   "execution_count": 96,
   "id": "d80c3520",
   "metadata": {},
   "outputs": [
    {
     "data": {
      "text/plain": [
       "2530045572752"
      ]
     },
     "execution_count": 96,
     "metadata": {},
     "output_type": "execute_result"
    }
   ],
   "source": [
    "su = np.array([567,345])\n",
    "df = su\n",
    "id(su)"
   ]
  },
  {
   "cell_type": "code",
   "execution_count": 97,
   "id": "05e22ce8",
   "metadata": {},
   "outputs": [
    {
     "data": {
      "text/plain": [
       "2530045572752"
      ]
     },
     "execution_count": 97,
     "metadata": {},
     "output_type": "execute_result"
    }
   ],
   "source": [
    "id(df)"
   ]
  },
  {
   "cell_type": "code",
   "execution_count": 98,
   "id": "2f7163f5",
   "metadata": {},
   "outputs": [
    {
     "data": {
      "text/plain": [
       "2530045514480"
      ]
     },
     "execution_count": 98,
     "metadata": {},
     "output_type": "execute_result"
    }
   ],
   "source": [
    "id(su[0])"
   ]
  },
  {
   "cell_type": "code",
   "execution_count": 99,
   "id": "e76108a0",
   "metadata": {},
   "outputs": [
    {
     "data": {
      "text/plain": [
       "2530045514480"
      ]
     },
     "execution_count": 99,
     "metadata": {},
     "output_type": "execute_result"
    }
   ],
   "source": [
    "id(df[0])"
   ]
  },
  {
   "cell_type": "code",
   "execution_count": 100,
   "id": "a2acae31",
   "metadata": {},
   "outputs": [
    {
     "name": "stdout",
     "output_type": "stream",
     "text": [
      "2530045514480\n",
      "2530045515184\n",
      "2530045515184 2530045515184\n",
      "2530045512016 2530045512016\n",
      "True\n"
     ]
    }
   ],
   "source": [
    "\n",
    "print(id(su[0]))\n",
    "print(id(df[0]))\n",
    "print(id(su[1]), id(df[0]))  # may match\n",
    "print(id(su[0]), id(su[0]))\n",
    "print(id(su[1]) == id(df[0]))  # Check if the IDs of the first element of su and df are the same"
   ]
  },
  {
   "cell_type": "code",
   "execution_count": null,
   "id": "d7e600f1",
   "metadata": {},
   "outputs": [],
   "source": []
  }
 ],
 "metadata": {
  "kernelspec": {
   "display_name": ".venv (3.13.5)",
   "language": "python",
   "name": "python3"
  },
  "language_info": {
   "codemirror_mode": {
    "name": "ipython",
    "version": 3
   },
   "file_extension": ".py",
   "mimetype": "text/x-python",
   "name": "python",
   "nbconvert_exporter": "python",
   "pygments_lexer": "ipython3",
   "version": "3.13.5"
  }
 },
 "nbformat": 4,
 "nbformat_minor": 5
}
