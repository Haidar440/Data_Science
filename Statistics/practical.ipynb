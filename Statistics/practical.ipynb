{
 "cells": [
  {
   "cell_type": "markdown",
   "id": "73bed230",
   "metadata": {},
   "source": [
    "# Practical Statistics with Python\n",
    "This notebook explores key statistical concepts using Python libraries such as pandas, numpy, matplotlib, and seaborn. Each code cell is preceded by a markdown cell that explains what the code does, why it's important, and any relevant mathematical or visualization concepts. Use this notebook to revise core ideas and see practical examples in action!"
   ]
  },
  {
   "cell_type": "code",
   "execution_count": 1,
   "id": "d9f16f06",
   "metadata": {},
   "outputs": [],
   "source": [
    "import numpy as np\n",
    "import matplotlib.pyplot as plt\n",
    "import pandas as pd\n",
    "import seaborn as sns"
   ]
  },
  {
   "cell_type": "markdown",
   "id": "a07c8aaa",
   "metadata": {},
   "source": [
    "## Importing Essential Libraries\n",
    "- **numpy**: For numerical operations and mathematical functions.\n",
    "- **matplotlib.pyplot**: For creating static visualizations and plots.\n",
    "- **pandas**: For data manipulation and analysis, especially with tabular data.\n",
    "- **seaborn**: For advanced statistical data visualization, built on top of matplotlib.\n",
    "\n",
    "These libraries are the foundation for most data analysis and statistics tasks in Python."
   ]
  },
  {
   "cell_type": "code",
   "execution_count": 2,
   "id": "56571f24",
   "metadata": {},
   "outputs": [
    {
     "data": {
      "text/html": [
       "<div>\n",
       "<style scoped>\n",
       "    .dataframe tbody tr th:only-of-type {\n",
       "        vertical-align: middle;\n",
       "    }\n",
       "\n",
       "    .dataframe tbody tr th {\n",
       "        vertical-align: top;\n",
       "    }\n",
       "\n",
       "    .dataframe thead th {\n",
       "        text-align: right;\n",
       "    }\n",
       "</style>\n",
       "<table border=\"1\" class=\"dataframe\">\n",
       "  <thead>\n",
       "    <tr style=\"text-align: right;\">\n",
       "      <th></th>\n",
       "      <th>total_bill</th>\n",
       "      <th>tip</th>\n",
       "      <th>sex</th>\n",
       "      <th>smoker</th>\n",
       "      <th>day</th>\n",
       "      <th>time</th>\n",
       "      <th>size</th>\n",
       "    </tr>\n",
       "  </thead>\n",
       "  <tbody>\n",
       "    <tr>\n",
       "      <th>0</th>\n",
       "      <td>16.99</td>\n",
       "      <td>1.01</td>\n",
       "      <td>Female</td>\n",
       "      <td>No</td>\n",
       "      <td>Sun</td>\n",
       "      <td>Dinner</td>\n",
       "      <td>2</td>\n",
       "    </tr>\n",
       "    <tr>\n",
       "      <th>1</th>\n",
       "      <td>10.34</td>\n",
       "      <td>1.66</td>\n",
       "      <td>Male</td>\n",
       "      <td>No</td>\n",
       "      <td>Sun</td>\n",
       "      <td>Dinner</td>\n",
       "      <td>3</td>\n",
       "    </tr>\n",
       "    <tr>\n",
       "      <th>2</th>\n",
       "      <td>21.01</td>\n",
       "      <td>3.50</td>\n",
       "      <td>Male</td>\n",
       "      <td>No</td>\n",
       "      <td>Sun</td>\n",
       "      <td>Dinner</td>\n",
       "      <td>3</td>\n",
       "    </tr>\n",
       "    <tr>\n",
       "      <th>3</th>\n",
       "      <td>23.68</td>\n",
       "      <td>3.31</td>\n",
       "      <td>Male</td>\n",
       "      <td>No</td>\n",
       "      <td>Sun</td>\n",
       "      <td>Dinner</td>\n",
       "      <td>2</td>\n",
       "    </tr>\n",
       "    <tr>\n",
       "      <th>4</th>\n",
       "      <td>24.59</td>\n",
       "      <td>3.61</td>\n",
       "      <td>Female</td>\n",
       "      <td>No</td>\n",
       "      <td>Sun</td>\n",
       "      <td>Dinner</td>\n",
       "      <td>4</td>\n",
       "    </tr>\n",
       "  </tbody>\n",
       "</table>\n",
       "</div>"
      ],
      "text/plain": [
       "   total_bill   tip     sex smoker  day    time  size\n",
       "0       16.99  1.01  Female     No  Sun  Dinner     2\n",
       "1       10.34  1.66    Male     No  Sun  Dinner     3\n",
       "2       21.01  3.50    Male     No  Sun  Dinner     3\n",
       "3       23.68  3.31    Male     No  Sun  Dinner     2\n",
       "4       24.59  3.61  Female     No  Sun  Dinner     4"
      ]
     },
     "execution_count": 2,
     "metadata": {},
     "output_type": "execute_result"
    }
   ],
   "source": [
    "data = sns.load_dataset(\"tips\")\n",
    "data.head()"
   ]
  },
  {
   "cell_type": "markdown",
   "id": "092488fe",
   "metadata": {},
   "source": [
    "## Loading the 'tips' Dataset\n",
    "- Here, we load the classic `tips` dataset from seaborn. This dataset contains information about restaurant bills, tips, and related variables.\n",
    "- **Why?** This dataset is commonly used for practicing statistical analysis and data visualization because it contains both numerical and categorical data.\n",
    "- The `.head()` function displays the first few rows so you can get a sense of the data structure and values."
   ]
  },
  {
   "cell_type": "code",
   "execution_count": 3,
   "id": "96e12e01",
   "metadata": {},
   "outputs": [
    {
     "data": {
      "text/plain": [
       "np.float64(19.78594262295082)"
      ]
     },
     "execution_count": 3,
     "metadata": {},
     "output_type": "execute_result"
    }
   ],
   "source": [
    "data['total_bill'].mean()"
   ]
  },
  {
   "cell_type": "markdown",
   "id": "eb62f1c5",
   "metadata": {},
   "source": [
    "## Calculating the Mean (Average) of Total Bill\n",
    "- This cell calculates the **mean** (average) of the `total_bill` column in the tips dataset.\n",
    "- **Why?** The mean is a measure of central tendency, showing the typical value in a dataset.\n",
    "- **Formula:** Mean = (Sum of all values) / (Number of values)\n",
    "- Useful for understanding the general spending pattern on bills."
   ]
  },
  {
   "cell_type": "code",
   "execution_count": 4,
   "id": "02c34724",
   "metadata": {},
   "outputs": [
    {
     "data": {
      "text/plain": [
       "np.float64(17.795)"
      ]
     },
     "execution_count": 4,
     "metadata": {},
     "output_type": "execute_result"
    }
   ],
   "source": [
    "data['total_bill'].median()"
   ]
  },
  {
   "cell_type": "markdown",
   "id": "1f9f7b15",
   "metadata": {},
   "source": [
    "## Calculating the Median of Total Bill\n",
    "- This cell finds the **median** of the `total_bill` column.\n",
    "- **Why?** The median is the middle value when all values are sorted. It is less affected by outliers than the mean.\n",
    "- **How?** If the number of values is odd, the median is the middle value. If even, it is the average of the two middle values.\n",
    "- Useful for understanding the typical bill amount, especially if there are extreme values in the data."
   ]
  },
  {
   "cell_type": "code",
   "execution_count": 5,
   "id": "c5bc0038",
   "metadata": {},
   "outputs": [
    {
     "data": {
      "text/plain": [
       "np.float64(13.42)"
      ]
     },
     "execution_count": 5,
     "metadata": {},
     "output_type": "execute_result"
    }
   ],
   "source": [
    "data['total_bill'].mode()[0]"
   ]
  },
  {
   "cell_type": "markdown",
   "id": "6fc6a8e7",
   "metadata": {},
   "source": [
    "## Calculating the Mode of Total Bill\n",
    "- This cell finds the **mode** of the `total_bill` column, which is the value that appears most frequently.\n",
    "- **Why?** The mode helps identify the most common bill amount in the dataset.\n",
    "- Useful for understanding what bill value occurs most often, which can be important for business decisions or promotions."
   ]
  },
  {
   "cell_type": "code",
   "execution_count": 6,
   "id": "46b59968",
   "metadata": {},
   "outputs": [
    {
     "data": {
      "text/plain": [
       "<Axes: ylabel='total_bill'>"
      ]
     },
     "execution_count": 6,
     "metadata": {},
     "output_type": "execute_result"
    },
    {
     "data": {
      "image/png": "[encoded data removed]",
      "text/plain": [
       "<Figure size 640x480 with 1 Axes>"
      ]
     },
     "metadata": {},
     "output_type": "display_data"
    }
   ],
   "source": [
    "sns.boxplot(data['total_bill'])"
   ]
  },
  {
   "cell_type": "markdown",
   "id": "b58c1eef",
   "metadata": {},
   "source": [
    "## Box Plot of Total Bill\n",
    "- **What it does:** Creates a box plot for the `total_bill` values.\n",
    "- **Why:** A box plot summarizes the distribution and highlights outliers.\n",
    "- **How to read:**\n",
    "  - The box shows the interquartile range (IQR = Q3 − Q1).\n",
    "  - The line inside the box is the median.\n",
    "  - Whiskers typically extend to 1.5 × IQR from the quartiles.\n",
    "  - Points beyond whiskers are potential outliers.\n",
    "- **Insights:** Quickly spot skewness and outliers in spending."
   ]
  },
  {
   "cell_type": "code",
   "execution_count": 7,
   "id": "9ef78a8b",
   "metadata": {},
   "outputs": [
    {
     "data": {
      "text/plain": [
       "<Axes: xlabel='total_bill', ylabel='Count'>"
      ]
     },
     "execution_count": 7,
     "metadata": {},
     "output_type": "execute_result"
    },
    {
     "data": {
      "image/png": "[encoded data removed]",
      "text/plain": [
       "<Figure size 640x480 with 1 Axes>"
      ]
     },
     "metadata": {},
     "output_type": "display_data"
    }
   ],
   "source": [
    "sns.histplot(data['total_bill'], kde=True)"
   ]
  },
  {
   "cell_type": "markdown",
   "id": "4e895105",
   "metadata": {},
   "source": [
    "## Histogram with KDE for Total Bill\n",
    "- **What it does:** Plots a histogram of `total_bill` with a KDE (smoothed density curve).\n",
    "- **Why:** To understand the overall distribution—center, spread, and shape (e.g., skewness).\n",
    "- **Graph details:**\n",
    "  - Histogram bars show frequency within bins.\n",
    "  - KDE (Kernel Density Estimate) is a smoothed curve approximating the data’s probability density.\n",
    "- **Insights:** Look for skew (right tail), modality (one or more peaks), and spread."
   ]
  },
  {
   "cell_type": "code",
   "execution_count": 8,
   "id": "fc4520fa",
   "metadata": {},
   "outputs": [
    {
     "data": {
      "text/plain": [
       "<Axes: xlabel='day', ylabel='count'>"
      ]
     },
     "execution_count": 8,
     "metadata": {},
     "output_type": "execute_result"
    },
    {
     "data": {
      "image/png": "[encoded data removed]",
      "text/plain": [
       "<Figure size 640x480 with 1 Axes>"
      ]
     },
     "metadata": {},
     "output_type": "display_data"
    }
   ],
   "source": [
    "# sns.countplot(data['day'], palette='Set2')\n",
    "sns.countplot(x='day', data=data)"
   ]
  },
  {
   "cell_type": "markdown",
   "id": "02ebd3de",
   "metadata": {},
   "source": [
    "## Count Plot of Days\n",
    "- **What it does:** Counts how many records fall on each day of the week.\n",
    "- **Why:** To understand the distribution of observations across categories (here, days).\n",
    "- **Graph type:** Bar chart (count plot).\n",
    "- **Insights:** Reveals which days are busiest in the dataset."
   ]
  },
  {
   "cell_type": "code",
   "execution_count": 9,
   "id": "74df728a",
   "metadata": {},
   "outputs": [
    {
     "data": {
      "text/plain": [
       "<Axes: xlabel='sex', ylabel='count'>"
      ]
     },
     "execution_count": 9,
     "metadata": {},
     "output_type": "execute_result"
    },
    {
     "data": {
      "image/png": "[encoded data removed]",
      "text/plain": [
       "<Figure size 640x480 with 1 Axes>"
      ]
     },
     "metadata": {},
     "output_type": "display_data"
    }
   ],
   "source": [
    "sns.countplot(x='sex', data=data)"
   ]
  },
  {
   "cell_type": "markdown",
   "id": "00d01cad",
   "metadata": {},
   "source": [
    "## Count Plot by Sex\n",
    "- **What it does:** Shows counts for the `sex` category.\n",
    "- **Why:** Helps compare representation of each group.\n",
    "- **Graph type:** Bar chart (count plot).\n",
    "- **Insights:** Indicates male vs female counts in the dataset."
   ]
  },
  {
   "cell_type": "code",
   "execution_count": 10,
   "id": "d426414a",
   "metadata": {},
   "outputs": [
    {
     "data": {
      "text/plain": [
       "<Axes: xlabel='time', ylabel='count'>"
      ]
     },
     "execution_count": 10,
     "metadata": {},
     "output_type": "execute_result"
    },
    {
     "data": {
      "image/png": "[encoded data removed]",
      "text/plain": [
       "<Figure size 640x480 with 1 Axes>"
      ]
     },
     "metadata": {},
     "output_type": "display_data"
    }
   ],
   "source": [
    "sns.countplot(x='time', data=data)"
   ]
  },
  {
   "cell_type": "markdown",
   "id": "81adf15d",
   "metadata": {},
   "source": [
    "## Count Plot by Time (Lunch vs Dinner)\n",
    "- **What it does:** Displays the number of records for each `time` category (Lunch vs Dinner).\n",
    "- **Why:** Helps compare how observations are distributed across meal times.\n",
    "- **Graph type:** Bar chart (count plot).\n",
    "- **Insights:** Can show whether dinners are more frequent than lunches in this dataset."
   ]
  },
  {
   "cell_type": "code",
   "execution_count": 11,
   "id": "a96d711a",
   "metadata": {},
   "outputs": [
    {
     "data": {
      "text/plain": [
       "np.float64(10.779999999999998)"
      ]
     },
     "execution_count": 11,
     "metadata": {},
     "output_type": "execute_result"
    }
   ],
   "source": [
    "np.percentile(data['total_bill'], [25, 75])\n",
    "Q1 = data['total_bill'].quantile(0.25)\n",
    "Q3 = data['total_bill'].quantile(0.75)\n",
    "IQR = Q3 - Q1\n",
    "IQR"
   ]
  },
  {
   "cell_type": "markdown",
   "id": "5b762269",
   "metadata": {},
   "source": [
    "## Interquartile Range (IQR) and Quartiles for Total Bill\n",
    "- **What it does:**\n",
    "  - Computes the 25th and 75th percentiles (Q1 and Q3).\n",
    "  - Calculates the **IQR = Q3 − Q1**.\n",
    "- **Why:** IQR measures the spread of the middle 50% of the data and is robust to outliers.\n",
    "- **Formulas:**\n",
    "  - Q1 = 25th percentile, Q3 = 75th percentile\n",
    "  - IQR = Q3 − Q1\n",
    "- **Usage:** Often used to detect outliers using the 1.5 × IQR rule."
   ]
  },
  {
   "cell_type": "code",
   "execution_count": 12,
   "id": "afefd4ba",
   "metadata": {},
   "outputs": [
    {
     "data": {
      "text/html": [
       "<div>\n",
       "<style scoped>\n",
       "    .dataframe tbody tr th:only-of-type {\n",
       "        vertical-align: middle;\n",
       "    }\n",
       "\n",
       "    .dataframe tbody tr th {\n",
       "        vertical-align: top;\n",
       "    }\n",
       "\n",
       "    .dataframe thead th {\n",
       "        text-align: right;\n",
       "    }\n",
       "</style>\n",
       "<table border=\"1\" class=\"dataframe\">\n",
       "  <thead>\n",
       "    <tr style=\"text-align: right;\">\n",
       "      <th></th>\n",
       "      <th>sepal_length</th>\n",
       "      <th>sepal_width</th>\n",
       "      <th>petal_length</th>\n",
       "      <th>petal_width</th>\n",
       "      <th>species</th>\n",
       "    </tr>\n",
       "  </thead>\n",
       "  <tbody>\n",
       "    <tr>\n",
       "      <th>0</th>\n",
       "      <td>5.1</td>\n",
       "      <td>3.5</td>\n",
       "      <td>1.4</td>\n",
       "      <td>0.2</td>\n",
       "      <td>setosa</td>\n",
       "    </tr>\n",
       "    <tr>\n",
       "      <th>1</th>\n",
       "      <td>4.9</td>\n",
       "      <td>3.0</td>\n",
       "      <td>1.4</td>\n",
       "      <td>0.2</td>\n",
       "      <td>setosa</td>\n",
       "    </tr>\n",
       "    <tr>\n",
       "      <th>2</th>\n",
       "      <td>4.7</td>\n",
       "      <td>3.2</td>\n",
       "      <td>1.3</td>\n",
       "      <td>0.2</td>\n",
       "      <td>setosa</td>\n",
       "    </tr>\n",
       "    <tr>\n",
       "      <th>3</th>\n",
       "      <td>4.6</td>\n",
       "      <td>3.1</td>\n",
       "      <td>1.5</td>\n",
       "      <td>0.2</td>\n",
       "      <td>setosa</td>\n",
       "    </tr>\n",
       "    <tr>\n",
       "      <th>4</th>\n",
       "      <td>5.0</td>\n",
       "      <td>3.6</td>\n",
       "      <td>1.4</td>\n",
       "      <td>0.2</td>\n",
       "      <td>setosa</td>\n",
       "    </tr>\n",
       "  </tbody>\n",
       "</table>\n",
       "</div>"
      ],
      "text/plain": [
       "   sepal_length  sepal_width  petal_length  petal_width species\n",
       "0           5.1          3.5           1.4          0.2  setosa\n",
       "1           4.9          3.0           1.4          0.2  setosa\n",
       "2           4.7          3.2           1.3          0.2  setosa\n",
       "3           4.6          3.1           1.5          0.2  setosa\n",
       "4           5.0          3.6           1.4          0.2  setosa"
      ]
     },
     "execution_count": 12,
     "metadata": {},
     "output_type": "execute_result"
    }
   ],
   "source": [
    "#Now we try on iris dataset\n",
    "iris = sns.load_dataset(\"iris\")\n",
    "iris.head()"
   ]
  },
  {
   "cell_type": "markdown",
   "id": "fd437631",
   "metadata": {},
   "source": [
    "## Switching to the Iris Dataset\n",
    "- **What it does:** Loads the classic `iris` dataset for statistical exploration.\n",
    "- **Why:** `iris` is a small, clean dataset ideal for demonstrating descriptive statistics and simple visualizations.\n",
    "- We’ll compute central tendency measures and visualize distributions for `sepal_length`."
   ]
  },
  {
   "cell_type": "code",
   "execution_count": 13,
   "id": "1aafa49a",
   "metadata": {},
   "outputs": [
    {
     "data": {
      "text/plain": [
       "np.float64(5.843333333333334)"
      ]
     },
     "execution_count": 13,
     "metadata": {},
     "output_type": "execute_result"
    }
   ],
   "source": [
    "iris['sepal_length'].mean()"
   ]
  },
  {
   "cell_type": "markdown",
   "id": "105d180c",
   "metadata": {},
   "source": [
    "## Mean of Iris Sepal Length\n",
    "- **What it does:** Computes the average sepal length.\n",
    "- **Why:** Provides a central tendency measure for `sepal_length`.\n",
    "- **Formula:** Mean = (Sum of values) / (Count of values)."
   ]
  },
  {
   "cell_type": "code",
   "execution_count": 14,
   "id": "13b10f5e",
   "metadata": {},
   "outputs": [
    {
     "data": {
      "text/plain": [
       "np.float64(5.8)"
      ]
     },
     "execution_count": 14,
     "metadata": {},
     "output_type": "execute_result"
    }
   ],
   "source": [
    "iris['sepal_length'].median()"
   ]
  },
  {
   "cell_type": "markdown",
   "id": "43d28caf",
   "metadata": {},
   "source": [
    "## Median of Iris Sepal Length\n",
    "- **What it does:** Calculates the median (middle value) of `sepal_length`.\n",
    "- **Why:** The median is robust to outliers and shows the central point of the distribution.\n",
    "- **How:** Sort values; if count is odd, pick the middle; if even, average the two middle values."
   ]
  },
  {
   "cell_type": "code",
   "execution_count": 15,
   "id": "272a3241",
   "metadata": {},
   "outputs": [
    {
     "data": {
      "text/plain": [
       "np.float64(5.0)"
      ]
     },
     "execution_count": 15,
     "metadata": {},
     "output_type": "execute_result"
    }
   ],
   "source": [
    "iris['sepal_length'].mode()[0]"
   ]
  },
  {
   "cell_type": "markdown",
   "id": "a77355bb",
   "metadata": {},
   "source": [
    "## Mode of Iris Sepal Length\n",
    "- **What it does:** Finds the mode (most frequent value) of `sepal_length`.\n",
    "- **Why:** Identifies the value that occurs most often, useful for discrete distributions or repeated measurements."
   ]
  },
  {
   "cell_type": "code",
   "execution_count": 16,
   "id": "49877df6",
   "metadata": {},
   "outputs": [
    {
     "data": {
      "text/plain": [
       "<Axes: xlabel='sepal_length', ylabel='Count'>"
      ]
     },
     "execution_count": 16,
     "metadata": {},
     "output_type": "execute_result"
    },
    {
     "data": {
      "image/png": "[encoded data removed]",
      "text/plain": [
       "<Figure size 640x480 with 1 Axes>"
      ]
     },
     "metadata": {},
     "output_type": "display_data"
    }
   ],
   "source": [
    "sns.histplot(iris['sepal_length'], kde=True)"
   ]
  },
  {
   "cell_type": "markdown",
   "id": "58e3bd87",
   "metadata": {},
   "source": [
    "## Histogram with KDE: Iris Sepal Length\n",
    "- **What it does:** Plots a histogram and KDE for `sepal_length`.\n",
    "- **Why:** To understand the distribution’s shape (e.g., normal-like, skewed) and spread.\n",
    "- **Insights:** Look for modality, center, and variability."
   ]
  },
  {
   "cell_type": "code",
   "execution_count": 17,
   "id": "80b54bdc",
   "metadata": {},
   "outputs": [
    {
     "data": {
      "text/plain": [
       "<Axes: ylabel='sepal_length'>"
      ]
     },
     "execution_count": 17,
     "metadata": {},
     "output_type": "execute_result"
    },
    {
     "data": {
      "image/png": "[encoded data removed]",
      "text/plain": [
       "<Figure size 640x480 with 1 Axes>"
      ]
     },
     "metadata": {},
     "output_type": "display_data"
    }
   ],
   "source": [
    "sns.boxplot(iris['sepal_length'])"
   ]
  },
  {
   "cell_type": "markdown",
   "id": "f7793201",
   "metadata": {},
   "source": [
    "## Box Plot: Iris Sepal Length\n",
    "- **What it does:** Visualizes median, IQR, and outliers for `sepal_length`.\n",
    "- **Why:** Quick summary of distribution and outliers.\n",
    "- **Reading the plot:** Median line, IQR box, whiskers (±1.5×IQR), and outlier points."
   ]
  },
  {
   "cell_type": "code",
   "execution_count": 18,
   "id": "7d84c49a",
   "metadata": {},
   "outputs": [
    {
     "data": {
      "text/plain": [
       "<Axes: xlabel='species', ylabel='count'>"
      ]
     },
     "execution_count": 18,
     "metadata": {},
     "output_type": "execute_result"
    },
    {
     "data": {
      "image/png": "[encoded data removed]",
      "text/plain": [
       "<Figure size 640x480 with 1 Axes>"
      ]
     },
     "metadata": {},
     "output_type": "display_data"
    }
   ],
   "source": [
    "sns.countplot(x = 'species', data = iris)"
   ]
  },
  {
   "cell_type": "markdown",
   "id": "620892b7",
   "metadata": {},
   "source": [
    "## Count Plot: Iris Species\n",
    "- **What it does:** Counts the number of observations for each species.\n",
    "- **Why:** Understand class balance (important for modeling).\n",
    "- **Insights:** Shows whether classes are balanced or imbalanced."
   ]
  },
  {
   "cell_type": "code",
   "execution_count": 19,
   "id": "c0d37f95",
   "metadata": {},
   "outputs": [],
   "source": [
    "dataset= [11,10,12,14,12,15,14,13,15,102,12,14,17,19,107, 10,13,12,14,12,108,12,11,14,13,15,10,15,12,10,14,13,15,10]"
   ]
  },
  {
   "cell_type": "markdown",
   "id": "f0e949af",
   "metadata": {},
   "source": [
    "## Synthetic Dataset for Outlier Detection\n",
    "- **What it does:** Defines a list of numbers with some extreme values (e.g., 102, 107, 108) acting as outliers.\n",
    "- **Why:** To demonstrate outlier detection methods (Z-score and IQR)."
   ]
  },
  {
   "cell_type": "code",
   "execution_count": 20,
   "id": "c4a56ab2",
   "metadata": {},
   "outputs": [
    {
     "data": {
      "text/plain": [
       "<Axes: ylabel='Count'>"
      ]
     },
     "execution_count": 20,
     "metadata": {},
     "output_type": "execute_result"
    },
    {
     "data": {
      "image/png": "[encoded data removed]",
      "text/plain": [
       "<Figure size 640x480 with 1 Axes>"
      ]
     },
     "metadata": {},
     "output_type": "display_data"
    }
   ],
   "source": [
    "sns.histplot(dataset, kde=True)"
   ]
  },
  {
   "cell_type": "markdown",
   "id": "547f4944",
   "metadata": {},
   "source": [
    "## Histogram with KDE: Synthetic Dataset\n",
    "- **What it does:** Visualizes the distribution of the synthetic dataset with a histogram and KDE.\n",
    "- **Why:** To see how outliers affect the shape and spread of the distribution."
   ]
  },
  {
   "cell_type": "code",
   "execution_count": 21,
   "id": "4ef6681c",
   "metadata": {},
   "outputs": [
    {
     "name": "stdout",
     "output_type": "stream",
     "text": [
      "[102, 107, 108]\n"
     ]
    }
   ],
   "source": [
    "# Outliers using Z-score\n",
    "outlier_indices = []\n",
    "def detect_outliers_zscore(data):\n",
    "    threshold = 3\n",
    "    mean = np.mean(data)\n",
    "    std = np.std(data)\n",
    "    for idx, i in enumerate(data):\n",
    "        z_score = (i - mean) / std\n",
    "        if np.abs(z_score) > threshold:\n",
    "            outlier_indices.append(i)\n",
    "    return outlier_indices\n",
    "print(detect_outliers_zscore(dataset))"
   ]
  },
  {
   "cell_type": "markdown",
   "id": "991b2a29",
   "metadata": {},
   "source": [
    "## Outlier Detection using Z-score\n",
    "- **What it does:** Implements Z-score based outlier detection.\n",
    "- **Why:** Points with |Z| > 3 are often considered outliers (assuming near-normal distribution).\n",
    "- **Formulas:**\n",
    "  - Z-score: z = (x − μ) / σ\n",
    "  - Threshold commonly used: 3.\n",
    "- **Steps:**\n",
    "  1. Compute mean (μ) and standard deviation (σ).\n",
    "  2. For each value x, compute z.\n",
    "  3. Flag values with |z| > threshold."
   ]
  },
  {
   "cell_type": "code",
   "execution_count": 26,
   "id": "a766718f",
   "metadata": {},
   "outputs": [
    {
     "name": "stdout",
     "output_type": "stream",
     "text": [
      "Q1: 12.0 Q3: 15.0 IQR: 3.0\n",
      "Lower bound: 7.5 Upper bound: 19.5\n",
      "Outlier indices: [102, 107, 108]\n"
     ]
    }
   ],
   "source": [
    "# Outliers using IQR\n",
    "outlier_indices = []\n",
    "def detect_outlier_iqr(data):\n",
    "    data_sorted = sorted(data)\n",
    "    Q1 = np.percentile(data_sorted, 25)\n",
    "    Q3 = np.percentile(data_sorted, 75)\n",
    "    IQR = Q3 - Q1\n",
    "    lower_bound = Q1 - 1.5 * IQR\n",
    "    upper_bound = Q3 + 1.5 * IQR\n",
    "    print(\"Q1:\", Q1, \"Q3:\", Q3, \"IQR:\", IQR)\n",
    "    print(\"Lower bound:\", lower_bound, \"Upper bound:\", upper_bound)\n",
    "    for i in data_sorted:\n",
    "        if i < lower_bound or i > upper_bound:\n",
    "            outlier_indices.append(i)\n",
    "    print(\"Outlier indices:\", outlier_indices)\n",
    "\n",
    "detect_outlier_iqr(dataset)"
   ]
  },
  {
   "cell_type": "markdown",
   "id": "d3dbb4b9",
   "metadata": {},
   "source": [
    "## Outlier Detection using IQR Rule\n",
    "- **What it does:** Uses the IQR (Q3 − Q1) to compute lower/upper bounds and flag outliers.\n",
    "- **Why:** IQR is robust to outliers and doesn’t assume normality.\n",
    "- **Formulas:**\n",
    "  - IQR = Q3 − Q1\n",
    "  - Lower bound = Q1 − 1.5 × IQR\n",
    "  - Upper bound = Q3 + 1.5 × IQR\n",
    "- **Steps:**\n",
    "  1. Sort data and compute Q1, Q3.\n",
    "  2. Compute IQR, then lower/upper bounds.\n",
    "  3. Flag values outside the bounds."
   ]
  }
 ],
 "metadata": {
  "kernelspec": {
   "display_name": ".venv (3.13.5)",
   "language": "python",
   "name": "python3"
  },
  "language_info": {
   "codemirror_mode": {
    "name": "ipython",
    "version": 3
   },
   "file_extension": ".py",
   "mimetype": "text/x-python",
   "name": "python",
   "nbconvert_exporter": "python",
   "pygments_lexer": "ipython3",
   "version": "3.13.5"
  }
 },
 "nbformat": 4,
 "nbformat_minor": 5
}
