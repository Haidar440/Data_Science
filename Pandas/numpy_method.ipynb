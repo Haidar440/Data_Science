{
 "cells": [
  {
   "cell_type": "code",
   "execution_count": 1,
   "id": "e4313385",
   "metadata": {},
   "outputs": [],
   "source": [
    "import numpy as np"
   ]
  },
  {
   "cell_type": "code",
   "execution_count": 2,
   "id": "47daf01d",
   "metadata": {},
   "outputs": [
    {
     "data": {
      "text/plain": [
       "array([ 1,  2,  4, 45,  5,  6,  6])"
      ]
     },
     "execution_count": 2,
     "metadata": {},
     "output_type": "execute_result"
    }
   ],
   "source": [
    "l = [1,2,4,45,5,6,6]\n",
    "arr = np.array(l)\n",
    "arr"
   ]
  },
  {
   "cell_type": "markdown",
   "id": "99507a86",
   "metadata": {},
   "source": [
    "# NumPy Methods\n",
    "NumPy provides a wide range of methods for performing operations on arrays.\n",
    "These methods allow for efficient manipulation and computation on large datasets.\n",
    "\n",
    "Some commonly used NumPy methods include:\n",
    "\n",
    "- **`np.array()`**: Create a NumPy array.\n",
    "  ```python\n",
    "  arr = np.array([1, 2, 3])\n",
    "  print(arr)\n",
    "  # Output: [1 2 3]\n",
    "  ```\n",
    "\n",
    "- **`np.zeros()`**: Create an array filled with zeros.\n",
    "  ```python\n",
    "  zeros = np.zeros((2, 3))\n",
    "  print(zeros)\n",
    "  # Output: [[0. 0. 0.]\n",
    "  #          [0. 0. 0.]]\n",
    "  ```\n",
    "\n",
    "- **`np.ones()`**: Create an array filled with ones.\n",
    "  ```python\n",
    "  ones = np.ones((2, 3))\n",
    "  print(ones)\n",
    "  # Output: [[1. 1. 1.]\n",
    "  #          [1. 1. 1.]]\n",
    "  ```\n",
    "\n",
    "- **`np.arange()`**: Create an array with a range of values.\n",
    "  ```python\n",
    "  arr = np.arange(0, 10, 2)\n",
    "  print(arr)\n",
    "  # Output: [0 2 4 6 8]\n",
    "  ```\n",
    "\n",
    "- **`np.linspace()`**: Create an array with evenly spaced values.\n",
    "  ```python\n",
    "  arr = np.linspace(0, 1, 5)\n",
    "  print(arr)\n",
    "  # Output: [0.   0.25 0.5  0.75 1.  ]\n",
    "  ```\n",
    "\n",
    "- **`np.reshape()`**: Change the shape of an array.\n",
    "  ```python\n",
    "  arr = np.arange(6)\n",
    "  reshaped = arr.reshape((2, 3))\n",
    "  print(reshaped)\n",
    "  # Output: [[0 1 2]\n",
    "  #          [3 4 5]]\n",
    "  ```\n",
    "\n",
    "- **`np.concatenate()`**: Join two or more arrays.\n",
    "  ```python\n",
    "  a = np.array([1, 2])\n",
    "  b = np.array([3, 4])\n",
    "  combined = np.concatenate((a, b))\n",
    "  print(combined)\n",
    "  # Output: [1 2 3 4]\n",
    "  ```\n",
    "\n",
    "- **`np.split()`**: Split an array into multiple sub-arrays.\n",
    "  ```python\n",
    "  arr = np.array([0, 1, 2, 3, 4, 5])\n",
    "  split = np.split(arr, 3)\n",
    "  print(split)\n",
    "  # Output: [array([0, 1]), array([2, 3]), array([4, 5])]\n",
    "  ```\n",
    "\n",
    "- **`np.mean()`**: Compute the mean of an array.\n",
    "  ```python\n",
    "  arr = np.array([1, 2, 3, 4])\n",
    "  print(np.mean(arr))\n",
    "  # Output: 2.5\n",
    "  ```\n",
    "\n",
    "- **`np.sum()`**: Compute the sum of an array.\n",
    "  ```python\n",
    "  arr = np.array([1, 2, 3, 4])\n",
    "  print(np.sum(arr))\n",
    "  # Output: 10\n",
    "  ```"
   ]
  },
  {
   "cell_type": "code",
   "execution_count": 3,
   "id": "3c266e91",
   "metadata": {},
   "outputs": [
    {
     "data": {
      "text/plain": [
       "array([0., 0., 0., 0., 0.])"
      ]
     },
     "execution_count": 3,
     "metadata": {},
     "output_type": "execute_result"
    }
   ],
   "source": [
    "#Let's see one by one\n",
    "np.zeros(5)"
   ]
  },
  {
   "cell_type": "code",
   "execution_count": 4,
   "id": "84120363",
   "metadata": {},
   "outputs": [
    {
     "data": {
      "text/plain": [
       "array([[[0, 0, 0],\n",
       "        [0, 0, 0],\n",
       "        [0, 0, 0]],\n",
       "\n",
       "       [[0, 0, 0],\n",
       "        [0, 0, 0],\n",
       "        [0, 0, 0]],\n",
       "\n",
       "       [[0, 0, 0],\n",
       "        [0, 0, 0],\n",
       "        [0, 0, 0]]])"
      ]
     },
     "execution_count": 4,
     "metadata": {},
     "output_type": "execute_result"
    }
   ],
   "source": [
    "\n",
    "np.zeros((3,3,3),dtype=int)"
   ]
  },
  {
   "cell_type": "code",
   "execution_count": 5,
   "id": "d2fae080",
   "metadata": {},
   "outputs": [
    {
     "data": {
      "text/plain": [
       "array([1., 1., 1., 1., 1.])"
      ]
     },
     "execution_count": 5,
     "metadata": {},
     "output_type": "execute_result"
    }
   ],
   "source": [
    "#np.ones\n",
    "np.ones(5)"
   ]
  },
  {
   "cell_type": "code",
   "execution_count": 6,
   "id": "7b66f84c",
   "metadata": {},
   "outputs": [
    {
     "data": {
      "text/plain": [
       "array([[1., 1., 1., 1., 1., 1.],\n",
       "       [1., 1., 1., 1., 1., 1.],\n",
       "       [1., 1., 1., 1., 1., 1.]])"
      ]
     },
     "execution_count": 6,
     "metadata": {},
     "output_type": "execute_result"
    }
   ],
   "source": [
    "np.ones((3,6))"
   ]
  },
  {
   "cell_type": "code",
   "execution_count": 7,
   "id": "75edd5dd",
   "metadata": {},
   "outputs": [
    {
     "data": {
      "text/plain": [
       "array([[6., 6., 6., 6., 6., 6.],\n",
       "       [6., 6., 6., 6., 6., 6.],\n",
       "       [6., 6., 6., 6., 6., 6.]])"
      ]
     },
     "execution_count": 7,
     "metadata": {},
     "output_type": "execute_result"
    }
   ],
   "source": [
    "5+np.ones((3,6))"
   ]
  },
  {
   "cell_type": "code",
   "execution_count": 8,
   "id": "66cd44be",
   "metadata": {},
   "outputs": [
    {
     "data": {
      "text/plain": [
       "array([[[ 4.48703503e-087,  1.21861333e-152],\n",
       "        [ 8.80119450e+223,  7.40954004e-130],\n",
       "        [ 4.02779965e+241,  9.63937808e-310],\n",
       "        [ 6.09251832e-242,  6.93972143e+218],\n",
       "        [ 2.42382356e+188,  7.35869375e+223],\n",
       "        [-3.38460945e+125,  9.10178554e+097]],\n",
       "\n",
       "       [[-2.00497879e+190,  4.93247975e-312],\n",
       "        [ 5.14867557e+025,  4.03438662e-237],\n",
       "        [ 9.79882228e+252,  1.34661443e+195],\n",
       "        [ 4.89003983e-312,  6.61822051e+025],\n",
       "        [ 6.15594962e-242,  4.92595326e+078],\n",
       "        [ 7.43663306e+096,  1.83190542e+016]],\n",
       "\n",
       "       [[-3.38460823e+125,  2.99091040e+262],\n",
       "        [ 7.62951521e-310,  7.68983923e-271],\n",
       "        [ 2.17518808e+243, -1.04243622e+224],\n",
       "        [ 5.08101945e-312,  7.49773090e+247],\n",
       "        [ 7.86946426e+276,  6.25374877e-304],\n",
       "        [ 8.73990640e+245,  6.01346930e-154]],\n",
       "\n",
       "       [[-3.38460756e+125,  4.74837995e+170],\n",
       "        [ 1.68124972e-303, -8.55683934e+016],\n",
       "        [ 5.97564987e-246, -3.05535169e-115],\n",
       "        [-3.90577136e-308, -5.98326504e+087],\n",
       "        [ 3.86262887e-252,  5.21965800e-241],\n",
       "        [ 1.05527920e-251,  1.47188152e+109]],\n",
       "\n",
       "       [[ 5.21969667e-241,  1.16460962e-251],\n",
       "        [ 1.47188152e+109,  1.53569264e-302],\n",
       "        [-1.97510564e-171,  2.32494968e-246],\n",
       "        [ 3.46776302e-248,  1.15699326e-145],\n",
       "        [ 3.93849972e-266,  4.66180830e-266],\n",
       "        [-7.11331177e+112, -2.23234257e+111]],\n",
       "\n",
       "       [[-7.59658751e+097, -1.42928696e+116],\n",
       "        [ 6.11209289e+142,  1.18218407e-242],\n",
       "        [ 9.43892836e+085,  6.01031617e-246],\n",
       "        [-4.23814916e-212, -2.39642628e-057],\n",
       "        [-1.71438976e+040,  2.18851889e-284],\n",
       "        [ 2.93275492e+205,  1.51715442e-126]]])"
      ]
     },
     "execution_count": 8,
     "metadata": {},
     "output_type": "execute_result"
    }
   ],
   "source": [
    "#np.empty\n",
    "# Creates an array of the given shape and type, without initializing entries.\n",
    "np.empty((6, 6,2))"
   ]
  },
  {
   "cell_type": "code",
   "execution_count": 9,
   "id": "30337fb7",
   "metadata": {},
   "outputs": [
    {
     "data": {
      "text/plain": [
       "array([2., 4., 6.])"
      ]
     },
     "execution_count": 9,
     "metadata": {},
     "output_type": "execute_result"
    }
   ],
   "source": [
    "#np.linspace\n",
    "# Returns evenly spaced numbers over a specified interval.\n",
    "# The endpoint is included by default.\n",
    "np.linspace(2, 6)\n",
    "#how it works\n",
    "# The function takes three arguments: start, stop, and num (the number of samples to generate).\n",
    "# It returns an array of evenly spaced values between the start and stop values.\n",
    "# The default value for num is 50 if not specified.\n",
    "np.linspace(2, 6, 3)  # Example with specified number of samples"
   ]
  },
  {
   "cell_type": "code",
   "execution_count": 10,
   "id": "cdef770b",
   "metadata": {},
   "outputs": [
    {
     "data": {
      "text/plain": [
       "(array([2. , 2.8, 3.6, 4.4, 5.2, 6. ]), np.float64(0.8))"
      ]
     },
     "execution_count": 10,
     "metadata": {},
     "output_type": "execute_result"
    }
   ],
   "source": [
    "\n",
    "np.linspace(2,6,10,endpoint=False).reshape(5,2)  # Example with endpoint set to False\n",
    "np.linspace(2,6,6,retstep=True)"
   ]
  },
  {
   "cell_type": "code",
   "execution_count": 11,
   "id": "121a68e6",
   "metadata": {},
   "outputs": [
    {
     "data": {
      "text/plain": [
       "array([ 8.        , 10.0793684 , 12.69920842, 16.        , 20.1587368 ,\n",
       "       25.39841683, 32.        , 40.3174736 , 50.79683366, 64.        ])"
      ]
     },
     "execution_count": 11,
     "metadata": {},
     "output_type": "execute_result"
    }
   ],
   "source": [
    "np.logspace(3, 6, 10, endpoint=True ,base=2)"
   ]
  },
  {
   "cell_type": "code",
   "execution_count": 12,
   "id": "bdb925e3",
   "metadata": {},
   "outputs": [
    {
     "data": {
      "text/plain": [
       "array([[1, 2, 3],\n",
       "       [4, 5, 6],\n",
       "       [7, 8, 9]])"
      ]
     },
     "execution_count": 12,
     "metadata": {},
     "output_type": "execute_result"
    }
   ],
   "source": [
    "a = np.arange(1, 10).reshape(3,3)\n",
    "a"
   ]
  },
  {
   "cell_type": "code",
   "execution_count": 13,
   "id": "0e67e424",
   "metadata": {},
   "outputs": [
    {
     "data": {
      "text/plain": [
       "np.int64(9)"
      ]
     },
     "execution_count": 13,
     "metadata": {},
     "output_type": "execute_result"
    }
   ],
   "source": [
    "a.max()"
   ]
  },
  {
   "cell_type": "code",
   "execution_count": 14,
   "id": "db234d0c",
   "metadata": {},
   "outputs": [
    {
     "data": {
      "text/plain": [
       "array([7, 8, 9])"
      ]
     },
     "execution_count": 14,
     "metadata": {},
     "output_type": "execute_result"
    }
   ],
   "source": [
    "a.max(axis=0)  # Maximum value along the first axis (columns)"
   ]
  },
  {
   "cell_type": "code",
   "execution_count": 15,
   "id": "abe59f52",
   "metadata": {},
   "outputs": [
    {
     "data": {
      "text/plain": [
       "array([3, 6, 9])"
      ]
     },
     "execution_count": 15,
     "metadata": {},
     "output_type": "execute_result"
    }
   ],
   "source": [
    "a.max(axis=1)  # Maximum value along the second axis (rows)"
   ]
  },
  {
   "cell_type": "code",
   "execution_count": 16,
   "id": "ff78d1f3",
   "metadata": {},
   "outputs": [
    {
     "data": {
      "text/plain": [
       "array([[11, 12, 13],\n",
       "       [14, 15, 16],\n",
       "       [17, 18, 19]])"
      ]
     },
     "execution_count": 16,
     "metadata": {},
     "output_type": "execute_result"
    }
   ],
   "source": [
    "10+a"
   ]
  },
  {
   "cell_type": "code",
   "execution_count": 17,
   "id": "cb989996",
   "metadata": {},
   "outputs": [
    {
     "name": "stderr",
     "output_type": "stream",
     "text": [
      "C:\\Users\\haida\\AppData\\Local\\Temp\\ipykernel_15056\\4102073204.py:1: RuntimeWarning: divide by zero encountered in divide\n",
      "  a/0\n"
     ]
    },
    {
     "data": {
      "text/plain": [
       "array([[inf, inf, inf],\n",
       "       [inf, inf, inf],\n",
       "       [inf, inf, inf]])"
      ]
     },
     "execution_count": 17,
     "metadata": {},
     "output_type": "execute_result"
    }
   ],
   "source": [
    "a/0"
   ]
  },
  {
   "cell_type": "code",
   "execution_count": 18,
   "id": "36bddd8c",
   "metadata": {},
   "outputs": [
    {
     "data": {
      "text/plain": [
       "array([[ 1,  4,  9],\n",
       "       [16, 25, 36],\n",
       "       [49, 64, 81]])"
      ]
     },
     "execution_count": 18,
     "metadata": {},
     "output_type": "execute_result"
    }
   ],
   "source": [
    "a**2"
   ]
  },
  {
   "cell_type": "code",
   "execution_count": 19,
   "id": "6f7018f4",
   "metadata": {},
   "outputs": [
    {
     "data": {
      "text/plain": [
       "array([[ 1,  4,  9],\n",
       "       [16, 25, 36],\n",
       "       [49, 64, 81]])"
      ]
     },
     "execution_count": 19,
     "metadata": {},
     "output_type": "execute_result"
    }
   ],
   "source": [
    "pow(a, 2)  # Equivalent to a**2, raises each element to the power of 2"
   ]
  },
  {
   "cell_type": "code",
   "execution_count": 20,
   "id": "4db584ac",
   "metadata": {},
   "outputs": [
    {
     "data": {
      "text/plain": [
       "array([2, 4, 1])"
      ]
     },
     "execution_count": 20,
     "metadata": {},
     "output_type": "execute_result"
    }
   ],
   "source": [
    "b = np.array([2,4,1])\n",
    "b"
   ]
  },
  {
   "cell_type": "code",
   "execution_count": 21,
   "id": "7cbc64e6",
   "metadata": {},
   "outputs": [
    {
     "data": {
      "text/plain": [
       "array([[1, 2, 3],\n",
       "       [4, 5, 6],\n",
       "       [7, 8, 9]])"
      ]
     },
     "execution_count": 21,
     "metadata": {},
     "output_type": "execute_result"
    }
   ],
   "source": [
    "a"
   ]
  },
  {
   "cell_type": "code",
   "execution_count": 22,
   "id": "c9935350",
   "metadata": {},
   "outputs": [
    {
     "data": {
      "text/plain": [
       "array([[1, 4, 7],\n",
       "       [2, 5, 8],\n",
       "       [3, 6, 9]])"
      ]
     },
     "execution_count": 22,
     "metadata": {},
     "output_type": "execute_result"
    }
   ],
   "source": [
    "a.T"
   ]
  },
  {
   "cell_type": "code",
   "execution_count": 23,
   "id": "ce167b1b",
   "metadata": {},
   "outputs": [
    {
     "data": {
      "text/plain": [
       "array([[ 3,  8,  8],\n",
       "       [ 4,  9,  9],\n",
       "       [ 5, 10, 10]])"
      ]
     },
     "execution_count": 23,
     "metadata": {},
     "output_type": "execute_result"
    }
   ],
   "source": [
    "a.T+b"
   ]
  },
  {
   "cell_type": "code",
   "execution_count": 24,
   "id": "6c3a587b",
   "metadata": {},
   "outputs": [
    {
     "data": {
      "text/plain": [
       "array([[ 3,  6,  4],\n",
       "       [ 6,  9,  7],\n",
       "       [ 9, 12, 10]])"
      ]
     },
     "execution_count": 24,
     "metadata": {},
     "output_type": "execute_result"
    }
   ],
   "source": [
    "a+b"
   ]
  },
  {
   "cell_type": "code",
   "execution_count": 25,
   "id": "ca8845a1",
   "metadata": {},
   "outputs": [
    {
     "data": {
      "text/plain": [
       "array([[2, 4, 1]])"
      ]
     },
     "execution_count": 25,
     "metadata": {},
     "output_type": "execute_result"
    }
   ],
   "source": [
    "b = b.reshape(1, -1)\n",
    "\n",
    "b"
   ]
  },
  {
   "cell_type": "code",
   "execution_count": 26,
   "id": "1a1dab1c",
   "metadata": {},
   "outputs": [
    {
     "data": {
      "text/plain": [
       "array([[ 3,  4,  5],\n",
       "       [ 8,  9, 10],\n",
       "       [ 8,  9, 10]])"
      ]
     },
     "execution_count": 26,
     "metadata": {},
     "output_type": "execute_result"
    }
   ],
   "source": [
    "a + b.T "
   ]
  },
  {
   "cell_type": "code",
   "execution_count": 27,
   "id": "f13f5c4a",
   "metadata": {},
   "outputs": [
    {
     "data": {
      "text/plain": [
       "array([[1.        , 1.41421356, 1.73205081],\n",
       "       [2.        , 2.23606798, 2.44948974],\n",
       "       [2.64575131, 2.82842712, 3.        ]])"
      ]
     },
     "execution_count": 27,
     "metadata": {},
     "output_type": "execute_result"
    }
   ],
   "source": [
    "np.sqrt(a)  # Square root of each element in the array"
   ]
  },
  {
   "cell_type": "code",
   "execution_count": 28,
   "id": "29d1544f",
   "metadata": {},
   "outputs": [
    {
     "data": {
      "text/plain": [
       "array([[2.71828183e+00, 7.38905610e+00, 2.00855369e+01],\n",
       "       [5.45981500e+01, 1.48413159e+02, 4.03428793e+02],\n",
       "       [1.09663316e+03, 2.98095799e+03, 8.10308393e+03]])"
      ]
     },
     "execution_count": 28,
     "metadata": {},
     "output_type": "execute_result"
    }
   ],
   "source": [
    "np.exp(a)  # Exponential of each element in the array\n",
    "# Element-wise addition of a and b\n",
    "# a + b"
   ]
  },
  {
   "cell_type": "code",
   "execution_count": 29,
   "id": "decde782",
   "metadata": {},
   "outputs": [
    {
     "data": {
      "text/plain": [
       "array([[0.        , 0.30103   , 0.47712125],\n",
       "       [0.60205999, 0.69897   , 0.77815125],\n",
       "       [0.84509804, 0.90308999, 0.95424251]])"
      ]
     },
     "execution_count": 29,
     "metadata": {},
     "output_type": "execute_result"
    }
   ],
   "source": [
    "np.log10(a)  # Base-10 logarithm of each element in the array"
   ]
  },
  {
   "cell_type": "code",
   "execution_count": 42,
   "id": "067a9682",
   "metadata": {},
   "outputs": [],
   "source": [
    "import numpy as np\n",
    "x = np.array([1, 2, 3])\n"
   ]
  },
  {
   "cell_type": "code",
   "execution_count": 48,
   "id": "2b1bc966",
   "metadata": {},
   "outputs": [],
   "source": [
    "y = x"
   ]
  },
  {
   "cell_type": "code",
   "execution_count": 43,
   "id": "9497329c",
   "metadata": {},
   "outputs": [],
   "source": [
    "z = np.copy(x)  # Create a copy of x"
   ]
  },
  {
   "cell_type": "code",
   "execution_count": 44,
   "id": "2e70b26c",
   "metadata": {},
   "outputs": [
    {
     "data": {
      "text/plain": [
       "array([100,   2,   3])"
      ]
     },
     "execution_count": 44,
     "metadata": {},
     "output_type": "execute_result"
    }
   ],
   "source": [
    "x[0] = 100\n",
    "y"
   ]
  },
  {
   "cell_type": "code",
   "execution_count": 45,
   "id": "756272c3",
   "metadata": {},
   "outputs": [
    {
     "data": {
      "text/plain": [
       "array([1, 2, 3])"
      ]
     },
     "execution_count": 45,
     "metadata": {},
     "output_type": "execute_result"
    }
   ],
   "source": [
    "z"
   ]
  },
  {
   "cell_type": "code",
   "execution_count": 50,
   "id": "0c42d8d4",
   "metadata": {},
   "outputs": [
    {
     "data": {
      "text/plain": [
       "2615170334416"
      ]
     },
     "execution_count": 50,
     "metadata": {},
     "output_type": "execute_result"
    }
   ],
   "source": [
    "id(x)"
   ]
  },
  {
   "cell_type": "code",
   "execution_count": 49,
   "id": "f061e87d",
   "metadata": {},
   "outputs": [
    {
     "data": {
      "text/plain": [
       "2615170334416"
      ]
     },
     "execution_count": 49,
     "metadata": {},
     "output_type": "execute_result"
    }
   ],
   "source": [
    "id(y)"
   ]
  },
  {
   "cell_type": "code",
   "execution_count": 51,
   "id": "9845e79f",
   "metadata": {},
   "outputs": [
    {
     "data": {
      "text/plain": [
       "2615170334320"
      ]
     },
     "execution_count": 51,
     "metadata": {},
     "output_type": "execute_result"
    }
   ],
   "source": [
    "id(z)"
   ]
  },
  {
   "cell_type": "code",
   "execution_count": 57,
   "id": "d49da1f2",
   "metadata": {},
   "outputs": [
    {
     "data": {
      "text/plain": [
       "2615169774480"
      ]
     },
     "execution_count": 57,
     "metadata": {},
     "output_type": "execute_result"
    }
   ],
   "source": [
    "id(y[0])"
   ]
  },
  {
   "cell_type": "code",
   "execution_count": 58,
   "id": "dc0dd2e9",
   "metadata": {},
   "outputs": [
    {
     "data": {
      "text/plain": [
       "2615169776528"
      ]
     },
     "execution_count": 58,
     "metadata": {},
     "output_type": "execute_result"
    }
   ],
   "source": [
    "id(x[0])"
   ]
  },
  {
   "cell_type": "code",
   "execution_count": 59,
   "id": "5d54cff9",
   "metadata": {},
   "outputs": [
    {
     "data": {
      "text/plain": [
       "True"
      ]
     },
     "execution_count": 59,
     "metadata": {},
     "output_type": "execute_result"
    }
   ],
   "source": [
    "id(x[0])==id(y[0])"
   ]
  },
  {
   "cell_type": "code",
   "execution_count": 109,
   "id": "69c779ab",
   "metadata": {},
   "outputs": [],
   "source": [
    "import numpy as np\n",
    "\n",
    "x = np.array([1, 3, 5])\n",
    "\n",
    "y = x\n",
    "\n"
   ]
  },
  {
   "cell_type": "code",
   "execution_count": 120,
   "id": "a6fc7b2f",
   "metadata": {},
   "outputs": [
    {
     "name": "stdout",
     "output_type": "stream",
     "text": [
      "2615170666736 2615170666736\n",
      "2615170666672 2615170666672\n",
      "True\n"
     ]
    }
   ],
   "source": [
    "print(id(x[0]), id(y[0]))  # may match\n",
    "print(id(x[0]), id(x[0]))  # may differ, new object each call\n",
    "print(x[0] == y[0])  "
   ]
  },
  {
   "cell_type": "code",
   "execution_count": 113,
   "id": "3cfd4042",
   "metadata": {},
   "outputs": [
    {
     "data": {
      "text/plain": [
       "2615170664464"
      ]
     },
     "execution_count": 113,
     "metadata": {},
     "output_type": "execute_result"
    }
   ],
   "source": [
    "id(y[0])"
   ]
  },
  {
   "cell_type": "code",
   "execution_count": 121,
   "id": "d80c3520",
   "metadata": {},
   "outputs": [
    {
     "data": {
      "text/plain": [
       "2615170779248"
      ]
     },
     "execution_count": 121,
     "metadata": {},
     "output_type": "execute_result"
    }
   ],
   "source": [
    "su = np.array([567,345])\n",
    "df = su\n",
    "id(su)"
   ]
  },
  {
   "cell_type": "code",
   "execution_count": 122,
   "id": "05e22ce8",
   "metadata": {},
   "outputs": [
    {
     "data": {
      "text/plain": [
       "2615170779248"
      ]
     },
     "execution_count": 122,
     "metadata": {},
     "output_type": "execute_result"
    }
   ],
   "source": [
    "id(df)"
   ]
  },
  {
   "cell_type": "code",
   "execution_count": 123,
   "id": "2f7163f5",
   "metadata": {},
   "outputs": [
    {
     "data": {
      "text/plain": [
       "2615170666000"
      ]
     },
     "execution_count": 123,
     "metadata": {},
     "output_type": "execute_result"
    }
   ],
   "source": [
    "id(su[0])"
   ]
  },
  {
   "cell_type": "code",
   "execution_count": 124,
   "id": "e76108a0",
   "metadata": {},
   "outputs": [
    {
     "data": {
      "text/plain": [
       "2615170666480"
      ]
     },
     "execution_count": 124,
     "metadata": {},
     "output_type": "execute_result"
    }
   ],
   "source": [
    "id(df[0])"
   ]
  },
  {
   "cell_type": "code",
   "execution_count": 131,
   "id": "a2acae31",
   "metadata": {},
   "outputs": [
    {
     "name": "stdout",
     "output_type": "stream",
     "text": [
      "2615170667728\n",
      "2615170667952\n",
      "2615170667952 2615170667952\n",
      "2615170667344 2615170667344\n",
      "True\n"
     ]
    }
   ],
   "source": [
    "\n",
    "print(id(su[0]))\n",
    "print(id(df[0]))\n",
    "print(id(su[1]), id(df[0]))  # may match\n",
    "print(id(su[0]), id(su[0]))\n",
    "print(id(su[1]) == id(df[0]))  # Check if the IDs of the first element of su and df are the same"
   ]
  },
  {
   "cell_type": "code",
   "execution_count": null,
   "id": "d7e600f1",
   "metadata": {},
   "outputs": [],
   "source": []
  }
 ],
 "metadata": {
  "kernelspec": {
   "display_name": "Python 3",
   "language": "python",
   "name": "python3"
  },
  "language_info": {
   "codemirror_mode": {
    "name": "ipython",
    "version": 3
   },
   "file_extension": ".py",
   "mimetype": "text/x-python",
   "name": "python",
   "nbconvert_exporter": "python",
   "pygments_lexer": "ipython3",
   "version": "3.13.5"
  }
 },
 "nbformat": 4,
 "nbformat_minor": 5
}
