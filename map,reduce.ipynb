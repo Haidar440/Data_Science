{
 "cells": [
  {
   "cell_type": "code",
   "execution_count": 5,
   "id": "7ccdb6cc",
   "metadata": {},
   "outputs": [
    {
     "name": "stdout",
     "output_type": "stream",
     "text": [
      "[6, 7, 8, 9, 10, 11, 12, 13, 14, 15]\n"
     ]
    }
   ],
   "source": [
    "l = [1,2,3,4,5,6,7,8,9,10]\n",
    "# simple approdach to keep adding 5 on elements of list\n",
    "for i in range(len(l)):\n",
    "    l[i] += 5\n",
    "print(l) "
   ]
  },
  {
   "cell_type": "code",
   "execution_count": 6,
   "id": "32b31f22",
   "metadata": {},
   "outputs": [
    {
     "data": {
      "text/plain": [
       "[11, 12, 13, 14, 15, 16, 17, 18, 19, 20]"
      ]
     },
     "execution_count": 6,
     "metadata": {},
     "output_type": "execute_result"
    }
   ],
   "source": [
    "# list comprehension approach\n",
    "[i + 5 for i in l]\n"
   ]
  },
  {
   "cell_type": "code",
   "execution_count": 7,
   "id": "eb5e1f0f",
   "metadata": {},
   "outputs": [
    {
     "name": "stdout",
     "output_type": "stream",
     "text": [
      "[11, 12, 13, 14, 15, 16, 17, 18, 19, 20]\n"
     ]
    }
   ],
   "source": [
    "# why this approach is not recommended?\n",
    "# because it is not readable and not efficient\n",
    "# so there is a better way to do this using map function\n",
    "# using map function\n",
    "\n",
    "# -- overview of map function --\n",
    "# map function applies a given function to all items in an input list (or any iterable)\n",
    "# it returns a map object (which is an iterator) that can be converted to a list\n",
    "# map function taqkes two arguments:\n",
    "# 1. a function that defines the operation to be applied\n",
    "# 2. an iterable (like a list) that contains the items to be processed\n",
    "# syntax:\n",
    "# map(function, iterable)\n",
    "# example:\n",
    "# using map function to add 5 to each element in the list\n",
    "mapped_result = map(lambda x: x + 5, l)\n",
    "# converting the map object to a list   \n",
    "mapped_list = list(mapped_result)\n",
    "print(mapped_list)\n"
   ]
  },
  {
   "cell_type": "code",
   "execution_count": 8,
   "id": "1ef6395e",
   "metadata": {},
   "outputs": [
    {
     "name": "stdout",
     "output_type": "stream",
     "text": [
      "[11, 12, 13, 14, 15, 16, 17, 18, 19, 20]\n"
     ]
    }
   ],
   "source": [
    "# now try with custom function\n",
    "def add_five(x):\n",
    "    return x + 5\n",
    "# using map function with custom function\n",
    "mapped_result_custom = map(add_five, l)\n",
    "# converting the map object to a list\n",
    "mapped_list_custom = list(mapped_result_custom)\n",
    "print(mapped_list_custom)\n"
   ]
  },
  {
   "cell_type": "code",
   "execution_count": 11,
   "id": "4362c01f",
   "metadata": {},
   "outputs": [
    {
     "name": "stdout",
     "output_type": "stream",
     "text": [
      "[1, 2, 3, 4, 5, 6, 7, 8, 9, 10]\n"
     ]
    },
    {
     "data": {
      "text/plain": [
       "[1, 2, 3, 4, 5, 6, 7, 8, 9, 10]"
      ]
     },
     "execution_count": 11,
     "metadata": {},
     "output_type": "execute_result"
    }
   ],
   "source": [
    "# List contain number but in string format\n",
    "l = ['1', '2', '3', '4', '5', '6', '7', '8', '9', '10']\n",
    "# using map function to convert string to integer\n",
    "result = map(int, l)\n",
    "# converting the map object to a list\n",
    "result_list = list(result)\n",
    "print(result_list)\n",
    "\n",
    "l1 = list(map(lambda x: int(x),l))\n",
    "l1"
   ]
  },
  {
   "cell_type": "code",
   "execution_count": 23,
   "id": "9ca828eb",
   "metadata": {},
   "outputs": [
    {
     "name": "stdout",
     "output_type": "stream",
     "text": [
      "[2, 4, 6, 8, 10]\n"
     ]
    }
   ],
   "source": [
    "# Before we move to filter function,we know what is simple approach to filter out even numbers from a list\n",
    "l = [1,2,3,4,5,6,7,8,9,10]\n",
    "\n",
    "def even_numbers(num):\n",
    "    even_list = []\n",
    "    if num % 2 == 0:\n",
    "         return num\n",
    "\n",
    "l = list(map(even_numbers, l))\n",
    "l\n",
    "# simple approach to filter out even numbers from a list\n",
    "l = [1,2,3,4,5,6,7,8,9,10]\n",
    "def even_numbers(num):\n",
    "    even_list = []\n",
    "    for i in num:\n",
    "        if i % 2 == 0:\n",
    "            even_list.append(i)\n",
    "    return even_list\n",
    "l = even_numbers(l)\n",
    "print(l)"
   ]
  },
  {
   "cell_type": "code",
   "execution_count": 24,
   "id": "499c62a9",
   "metadata": {},
   "outputs": [
    {
     "name": "stdout",
     "output_type": "stream",
     "text": [
      "[2, 4, 6, 8, 10]\n"
     ]
    }
   ],
   "source": [
    "# Let understand how to use filter function\n",
    "# filter function filters out items from an iterable based on a condition defined by a function\n",
    "# it returns a filter object (which is an iterator) that can be converted to a list\n",
    "# syntax:\n",
    "# filter(function, iterable)\n",
    "# example:\n",
    "l = [1,2,3,4,5,6,7,8,9,10]\n",
    "# using filter function to get even numbers\n",
    "result = filter(lambda x:x%2 == 0,l)\n",
    "# converting the filter object to a list\n",
    "result_list = list(result)\n",
    "print(result_list)  # [2, 4, 6, 8, 10]"
   ]
  },
  {
   "cell_type": "code",
   "execution_count": 25,
   "id": "8c82a10a",
   "metadata": {},
   "outputs": [
    {
     "name": "stdout",
     "output_type": "stream",
     "text": [
      "[2, 4, 6, 8, 10]\n"
     ]
    }
   ],
   "source": [
    "# Work on custom function\n",
    "def is_even(num):\n",
    "    return num % 2 == 0\n",
    "# using filter function with custom function\n",
    "result_custom = filter(is_even, l) \n",
    "# converting the filter object to a list\n",
    "result_list_custom = list(result_custom)\n",
    "print(result_list_custom)  # [2, 4, 6, 8, 10]"
   ]
  },
  {
   "cell_type": "code",
   "execution_count": 29,
   "id": "a31e496e",
   "metadata": {},
   "outputs": [
    {
     "name": "stdout",
     "output_type": "stream",
     "text": [
      "15\n"
     ]
    }
   ],
   "source": [
    "# let's understand reduce function\n",
    "# reduce function applies a rolling computation to sequential pairs of values in an iterable\n",
    "# it is not a built-in function in Python, so we need to import it from functools module\n",
    "from functools import reduce\n",
    "# syntax:\n",
    "# reduce(function, iterable[, initializer])\n",
    "# example:\n",
    "# using reduce function to find the sum of all elements in the list\n",
    "l = [1, 2, 3, 4, 5]\n",
    "# using reduce function to find the sum of all elements in the list\n",
    "sum_result = reduce(lambda x,y:x+y,l)\n",
    "print(sum_result)  # 15"
   ]
  },
  {
   "cell_type": "code",
   "execution_count": 39,
   "id": "c14979d5",
   "metadata": {},
   "outputs": [
    {
     "name": "stdout",
     "output_type": "stream",
     "text": [
      "40\n"
     ]
    }
   ],
   "source": [
    "# Reduce function try with custom function\n",
    "def add(x, y):\n",
    "    return x + y\n",
    "# using reduce function with custom function\n",
    "result = reduce(add,l)\n",
    "print(result)  # 15"
   ]
  },
  {
   "cell_type": "code",
   "execution_count": null,
   "id": "5ed8ba0c",
   "metadata": {},
   "outputs": [
    {
     "ename": "TypeError",
     "evalue": "reduce() of empty iterable with no initial value",
     "output_type": "error",
     "traceback": [
      "\u001b[31m---------------------------------------------------------------------------\u001b[39m",
      "\u001b[31mTypeError\u001b[39m                                 Traceback (most recent call last)",
      "\u001b[36mCell\u001b[39m\u001b[36m \u001b[39m\u001b[32mIn[41]\u001b[39m\u001b[32m, line 2\u001b[39m\n\u001b[32m      1\u001b[39m l = []\n\u001b[32m----> \u001b[39m\u001b[32m2\u001b[39m \u001b[43mreduce\u001b[49m\u001b[43m(\u001b[49m\u001b[43madd\u001b[49m\u001b[43m,\u001b[49m\u001b[43ml\u001b[49m\u001b[43m)\u001b[49m\n",
      "\u001b[31mTypeError\u001b[39m: reduce() of empty iterable with no initial value"
     ]
    }
   ],
   "source": [
    "l = []\n",
    "reduce(add,l)# This will raise an error because the list is empty and there are no elements to reduce.\n",
    "# To avoid this, we can provide an initializer value"
   ]
  },
  {
   "cell_type": "code",
   "execution_count": 44,
   "id": "6c050bdd",
   "metadata": {},
   "outputs": [
    {
     "name": "stdout",
     "output_type": "stream",
     "text": [
      "[(1, 'a'), (2, 'b')]\n",
      "[(1, 'a', True), (2, 'b', False)]\n"
     ]
    }
   ],
   "source": [
    "# let talk about zip function\n",
    "# zip function combines elements from multiple iterables (like lists) into tuples\n",
    "# it returns a zip object (which is an iterator) that can be converted to a list\n",
    "l1 = [1, 2,]\n",
    "l2 = ['a', 'b', 'c']\n",
    "l3 = [True, False, True]\n",
    "# syntax:\n",
    "# zip(iterable1, iterable2, ...)\n",
    "# using zip function to combine two lists\n",
    "zipped_result = zip(l1, l2)\n",
    "# converting the zip object to a list\n",
    "zipped_list = list(zipped_result)   \n",
    "print(zipped_list)  # [(1, 'a'), (2, 'b'), (3, 'c')]\n",
    "\n",
    "# using zip function to combine three lists\n",
    "zipped_result_three = zip(l1, l2, l3)\n",
    "# converting the zip object to a list\n",
    "zipped_list_three = list(zipped_result_three)\n",
    "print(zipped_list_three)  # [(1, 'a', True), (2, 'b', False), (3, 'c', True)]"
   ]
  }
 ],
 "metadata": {
  "kernelspec": {
   "display_name": "Python 3",
   "language": "python",
   "name": "python3"
  },
  "language_info": {
   "codemirror_mode": {
    "name": "ipython",
    "version": 3
   },
   "file_extension": ".py",
   "mimetype": "text/x-python",
   "name": "python",
   "nbconvert_exporter": "python",
   "pygments_lexer": "ipython3",
   "version": "3.13.5"
  }
 },
 "nbformat": 4,
 "nbformat_minor": 5
}
